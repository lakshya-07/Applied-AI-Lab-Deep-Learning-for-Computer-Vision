{
 "cells": [
  {
   "cell_type": "markdown",
   "metadata": {
    "deletable": false,
    "editable": false
   },
   "source": [
    "<p>\n",
    "  <b>AI Lab: Deep Learning for Computer Vision</b><br>\n",
    "  <b><a href=\"https://www.wqu.edu/\">WorldQuant University</a></b>\n",
    "</p>"
   ]
  },
  {
   "cell_type": "markdown",
   "metadata": {
    "deletable": false,
    "editable": false
   },
   "source": [
    "<div class=\"alert alert-success\" role=\"alert\">\n",
    "  <p>\n",
    "    <center><b>Usage Guidelines</b></center>\n",
    "  </p>\n",
    "  <p>\n",
    "    This file is licensed under <a href=\"https://creativecommons.org/licenses/by-nc-nd/4.0/\">Creative Commons Attribution-NonCommercial-NoDerivatives 4.0 International</a>.\n",
    "  </p>\n",
    "  <p>\n",
    "    You <b>can</b>:\n",
    "    <ul>\n",
    "      <li><span style=\"color: green\">✓</span> Download this file</li>\n",
    "      <li><span style=\"color: green\">✓</span> Post this file in public repositories</li>\n",
    "    </ul>\n",
    "    You <b>must always</b>:\n",
    "    <ul>\n",
    "      <li><span style=\"color: green\">✓</span> Give credit to <a href=\"https://www.wqu.edu/\">WorldQuant University</a> for the creation of this file</li>\n",
    "      <li><span style=\"color: green\">✓</span> Provide a <a href=\"https://creativecommons.org/licenses/by-nc-nd/4.0/\">link to the license</a></li>\n",
    "    </ul>\n",
    "    You <b>cannot</b>:\n",
    "    <ul>\n",
    "      <li><span style=\"color: red\">✗</span> Create derivatives or adaptations of this file</li>\n",
    "      <li><span style=\"color: red\">✗</span> Use this file for commercial purposes</li>\n",
    "    </ul>\n",
    "  </p>\n",
    "  <p>\n",
    "    Failure to follow these guidelines is a violation of your terms of service and could lead to your expulsion from WorldQuant University and the revocation your certificate.\n",
    "  </p>\n",
    "</div>"
   ]
  },
  {
   "cell_type": "markdown",
   "metadata": {},
   "source": [
    "### Getting Ready"
   ]
  },
  {
   "cell_type": "markdown",
   "metadata": {},
   "source": [
    "Before we start this lesson, we need to load the libraries we'll be using. These are the same ones we used in the last project."
   ]
  },
  {
   "cell_type": "code",
   "execution_count": null,
   "metadata": {},
   "outputs": [],
   "source": [
    "import os\n",
    "import random\n",
    "from shutil import copy2\n",
    "\n",
    "import matplotlib\n",
    "import matplotlib.pyplot as plt\n",
    "import numpy as np\n",
    "import PIL\n",
    "import torch\n",
    "import torchvision\n",
    "from torch.utils.data import DataLoader, random_split\n",
    "from torchvision import datasets, transforms\n",
    "from tqdm.notebook import tqdm"
   ]
  },
  {
   "cell_type": "markdown",
   "metadata": {},
   "source": [
    "And we should check what versions we are using. This way we know what versions worked, in case something changes in an update."
   ]
  },
  {
   "cell_type": "code",
   "execution_count": null,
   "metadata": {},
   "outputs": [],
   "source": [
    "print(\"torch version : \", torch.__version__)\n",
    "print(\"torchvision version : \", torchvision.__version__)\n",
    "print(\"numpy version : \", np.__version__)\n",
    "print(\"matplotlib version : \", matplotlib.__version__)\n",
    "\n",
    "!python --version"
   ]
  },
  {
   "cell_type": "markdown",
   "metadata": {},
   "source": [
    "### Exploring Our Dataset"
   ]
  },
  {
   "cell_type": "markdown",
   "metadata": {},
   "source": [
    "<div class=\"alert alert-danger\" role=\"alert\">\n",
    "  <p>\n",
    "    <center><b>Warning! Content Updated!</b></center>\n",
    "  </p>\n",
    "  <p>\n",
    "    This notebook has been update since the original creation and recording of the video. Originally, this notebook pulled data from GCP, but we've made a change so it's always available without the need of pulling it.\n",
    "  </p>\n",
    "</div>"
   ]
  },
  {
   "cell_type": "markdown",
   "metadata": {},
   "source": [
    "Our data for this project is related to a [Kaggle competition](https://www.kaggle.com/competitions/cassava-leaf-disease-classification) about crops in Uganda. Here, we'll work with images of cassava plants, an extremely important staple crop. We have images of both healthy plants, and plants with one of four diseases. The goal of the competition is to create a model to diagnose what disease a plant has, or if it's healthy. This would be the first step toward speeding up this diagnosis to help farmers maintain their crops.\n",
    "\n",
    "We'll specifically be looking at images from this [Kaggle Dataset](https://www.kaggle.com/datasets/srg9000/cassava-plant-disease-merged-20192020), which has data from the 2019 and 2020 versions of this competition."
   ]
  },
  {
   "cell_type": "markdown",
   "metadata": {},
   "source": [
    "**Content Update Warning**\n",
    "\n",
    "The data is available at the location `data_p2/train`. You can explore the dataset freely and then move to the next section."
   ]
  },
  {
   "cell_type": "code",
   "execution_count": null,
   "metadata": {},
   "outputs": [],
   "source": [
    "!ls -l data_p2"
   ]
  },
  {
   "cell_type": "markdown",
   "metadata": {},
   "source": [
    "**Task 2.2.1:** Create a variable for the `train` directory."
   ]
  },
  {
   "cell_type": "code",
   "execution_count": null,
   "metadata": {},
   "outputs": [],
   "source": [
    "data_dir = \"data_p2\"\n",
    "train_dir = ...\n",
    "\n",
    "print(\"Data directory:\", train_dir)"
   ]
  },
  {
   "cell_type": "markdown",
   "metadata": {},
   "source": [
    "In the training directory, each class gets its own directory. There are five categories:\n",
    "\n",
    "- healthy\n",
    "- green mottle virus (CGM)\n",
    "- bacterial blight (CBB)\n",
    "- brown streak disease (CBSD)\n",
    "- mosaic disease (CMD)\n",
    "\n",
    "We'll use the directory names as our classes."
   ]
  },
  {
   "cell_type": "code",
   "execution_count": null,
   "metadata": {},
   "outputs": [],
   "source": [
    "classes = os.listdir(train_dir)\n",
    "classes"
   ]
  },
  {
   "cell_type": "markdown",
   "metadata": {},
   "source": [
    "Let's look at a few examples of each. The function below opens four randomly selected images with the `PIL` library we used in the previous project, and displays them in a line."
   ]
  },
  {
   "cell_type": "code",
   "execution_count": null,
   "metadata": {},
   "outputs": [],
   "source": [
    "def sample_images(data_path, classname):\n",
    "    # Gets the files in the directory\n",
    "    class_dir = os.path.join(data_path, classname)\n",
    "    if not os.path.exists(class_dir):\n",
    "        return \"Invalid directory\"\n",
    "    image_list = os.listdir(class_dir)\n",
    "    if len(image_list) < 4:\n",
    "        return \"Not enough images in folder\"\n",
    "\n",
    "    # Pick four random images\n",
    "    images_sample = random.sample(image_list, 4)\n",
    "\n",
    "    # Plot them\n",
    "    plt.figure(figsize=(20, 20))\n",
    "    for i in range(4):\n",
    "        img_loc = os.path.join(class_dir, images_sample[i])\n",
    "        img = PIL.Image.open(img_loc)\n",
    "        plt.subplot(1, 4, i + 1)\n",
    "        plt.imshow(img)\n",
    "        plt.axis(\"off\")"
   ]
  },
  {
   "cell_type": "markdown",
   "metadata": {},
   "source": [
    "It takes two arguments:\n",
    "- The directory containing the classes\n",
    "- Which class we want\n",
    "\n",
    "First, let's look at some healthy plants."
   ]
  },
  {
   "cell_type": "code",
   "execution_count": null,
   "metadata": {},
   "outputs": [],
   "source": [
    "sample_images(train_dir, \"cassava-healthy\")"
   ]
  },
  {
   "cell_type": "markdown",
   "metadata": {},
   "source": [
    "Now we can look at the four disease classes. Instead of writing out the class name by hand, you can use the `classes` variable that has all of them in it."
   ]
  },
  {
   "cell_type": "markdown",
   "metadata": {},
   "source": [
    "**Task 2.2.2:** Use the `sample_images` function to look at examples of the first disease class (green mottle virus)."
   ]
  },
  {
   "cell_type": "code",
   "execution_count": null,
   "metadata": {},
   "outputs": [],
   "source": [
    "class_name = ...\n",
    "print(class_name)\n",
    "\n",
    "sample_images(..., class_name)"
   ]
  },
  {
   "cell_type": "markdown",
   "metadata": {},
   "source": [
    "**Task 2.2.3:** Use the `sample_images` function to look at examples of the second disease class (bacterial blight)."
   ]
  },
  {
   "cell_type": "code",
   "execution_count": null,
   "metadata": {},
   "outputs": [],
   "source": [
    "class_name = \n",
    "print(class_name)\n",
    "\n",
    "sample_images(..., class_name)"
   ]
  },
  {
   "cell_type": "markdown",
   "metadata": {},
   "source": [
    "If you're using the `classes` variable, be careful about order. We want to skip over the healthy plants, since we've already seen them."
   ]
  },
  {
   "cell_type": "markdown",
   "metadata": {},
   "source": [
    "**Task 2.2.4:** Use the `sample_images` function to look at examples of the third disease class (brown streak disease)."
   ]
  },
  {
   "cell_type": "code",
   "execution_count": null,
   "metadata": {},
   "outputs": [],
   "source": [
    "class_name = ...\n",
    "print(class_name)\n",
    "\n",
    "sample_images(..., class_name)"
   ]
  },
  {
   "cell_type": "markdown",
   "metadata": {},
   "source": [
    "**Task 2.2.5:** Use the `sample_images` function to look at examples of the fourth disease class (mosaic disease)."
   ]
  },
  {
   "cell_type": "code",
   "execution_count": null,
   "metadata": {},
   "outputs": [],
   "source": [
    "class_name = ...\n",
    "print(class_name)\n",
    "\n",
    "sample_images(..., class_name)"
   ]
  },
  {
   "cell_type": "markdown",
   "metadata": {},
   "source": [
    "### Preparing Our Data"
   ]
  },
  {
   "cell_type": "markdown",
   "metadata": {},
   "source": [
    "Now that we've seen the images we're working with, we need to get them ready for PyTorch. We'll use the same tools as the last project to load in the data.\n",
    "\n",
    "We'll create transformations that:\n",
    "\n",
    "- Convert any grayscale images to RGB format with a custom class\n",
    "- Resize the image, so that they're all the same size (we chose $224$ x $224$, but other sizes would work as well)\n",
    "- Convert the image to a Tensor of pixel values"
   ]
  },
  {
   "cell_type": "code",
   "execution_count": null,
   "metadata": {},
   "outputs": [],
   "source": [
    "class ConvertToRGB(object):\n",
    "    def __call__(self, img):\n",
    "        if img.mode != \"RGB\":\n",
    "            img = img.convert(\"RGB\")\n",
    "        return img"
   ]
  },
  {
   "cell_type": "code",
   "execution_count": null,
   "metadata": {},
   "outputs": [],
   "source": [
    "transform_basic = transforms.Compose(\n",
    "    [\n",
    "        ConvertToRGB(),\n",
    "        transforms.Resize((224, 224)),\n",
    "        transforms.ToTensor(),\n",
    "    ]\n",
    ")"
   ]
  },
  {
   "cell_type": "markdown",
   "metadata": {},
   "source": [
    "We'll want to apply these transformations as we load in the data. We'll also want to break our dataset into batches. We can use `ImageFolder` and `DataLoader` in the same way we did in the last project."
   ]
  },
  {
   "cell_type": "markdown",
   "metadata": {},
   "source": [
    "**Task 2.2.6:** Use `ImageFolder` to create a dataset applying the `transform_basic`, and `DataLoader` to create a data loader. Use a batch size of $32$."
   ]
  },
  {
   "cell_type": "code",
   "execution_count": null,
   "metadata": {},
   "outputs": [],
   "source": [
    "batch_size = ...\n",
    "dataset = ...\n",
    "dataset_loader = ...\n",
    "\n",
    "batch_shape = next(iter(dataset_loader))[0].shape\n",
    "print(\"Getting batches of shape:\", batch_shape)"
   ]
  },
  {
   "cell_type": "markdown",
   "metadata": {},
   "source": [
    "### Normalized Data"
   ]
  },
  {
   "cell_type": "markdown",
   "metadata": {},
   "source": [
    "In the last project, we saw that normalized data made our network perform better. That is data with a mean of $0$ and a standard deviation of $1$. We'll want to normalize this data as well.\n",
    "\n",
    "This is the function we used in the last project to compute the mean and standard deviation of our images."
   ]
  },
  {
   "cell_type": "code",
   "execution_count": null,
   "metadata": {},
   "outputs": [],
   "source": [
    "def get_mean_std(loader):\n",
    "    \"\"\"Computes the mean and standard deviation of image data.\n",
    "\n",
    "    Input: a `DataLoader` producing tensors of shape [batch_size, channels, pixels_x, pixels_y]\n",
    "    Output: the mean of each channel as a tensor, the standard deviation of each channel as a tensor\n",
    "            formatted as a tuple (means[channels], std[channels])\"\"\"\n",
    "\n",
    "    channels_sum, channels_squared_sum, num_batches = 0, 0, 0\n",
    "    for data, _ in tqdm(loader, desc=\"Computing mean and std\", leave=False):\n",
    "        channels_sum += torch.mean(data, dim=[0, 2, 3])\n",
    "        channels_squared_sum += torch.mean(data**2, dim=[0, 2, 3])\n",
    "        num_batches += 1\n",
    "    mean = channels_sum / num_batches\n",
    "    std = (channels_squared_sum / num_batches - mean**2) ** 0.5\n",
    "\n",
    "    return mean, std"
   ]
  },
  {
   "cell_type": "markdown",
   "metadata": {},
   "source": [
    "**Task 2.2.7:** Run the `get_mean_std` function on the `dataset_loader`, and save the means and standard deviations to variables `mean` and `std`. There should be a value for each color channel, giving us vectors of length $3$."
   ]
  },
  {
   "cell_type": "code",
   "execution_count": null,
   "metadata": {},
   "outputs": [],
   "source": [
    "mean, std = ...\n",
    "\n",
    "print(f\"Mean: {mean}\")\n",
    "print(f\"Standard deviation: {std}\")"
   ]
  },
  {
   "cell_type": "markdown",
   "metadata": {},
   "source": [
    "As expected, the means aren't $0$ and the standard deviations aren't $1$. We'll again change our transformations to include a `Normalize`. As in the last project, we need to give it a mean and standard deviation for each color channel. This is what we computed with our function."
   ]
  },
  {
   "cell_type": "code",
   "execution_count": null,
   "metadata": {},
   "outputs": [],
   "source": [
    "transform_norm = transforms.Compose(\n",
    "    [\n",
    "        ConvertToRGB(),\n",
    "        transforms.Resize((224, 224)),\n",
    "        transforms.ToTensor(),\n",
    "        transforms.Normalize(mean=mean, std=std),\n",
    "    ]\n",
    ")"
   ]
  },
  {
   "cell_type": "markdown",
   "metadata": {},
   "source": [
    "We'll need to recreate this dataset using the new transformations."
   ]
  },
  {
   "cell_type": "markdown",
   "metadata": {},
   "source": [
    "**Task 2.2.8:** Make a new normalized dataset using `ImageFolder` and a new `DataLoader`. Be sure to use a the same batch size of $32$."
   ]
  },
  {
   "cell_type": "code",
   "execution_count": null,
   "metadata": {},
   "outputs": [],
   "source": [
    "norm_dataset = ...\n",
    "norm_loader = ...\n",
    "\n",
    "batch_shape = next(iter(norm_loader))[0].shape\n",
    "print(\"Getting batches of shape:\", batch_shape)"
   ]
  },
  {
   "cell_type": "markdown",
   "metadata": {},
   "source": [
    "After the new normalize transformation, the data should have mean $0$ and standard deviation $1$ in each color channel. Let's check that."
   ]
  },
  {
   "cell_type": "markdown",
   "metadata": {},
   "source": [
    "**Task 2.2.9:** Use the `get_mean_std` function to verify the mean and standard deviation are correct in the `norm_loader` data."
   ]
  },
  {
   "cell_type": "code",
   "execution_count": null,
   "metadata": {},
   "outputs": [],
   "source": [
    "norm_mean, norm_std = ...\n",
    "\n",
    "print(f\"Mean: {norm_mean}\")\n",
    "print(f\"Standard deviation: {norm_std}\")"
   ]
  },
  {
   "cell_type": "markdown",
   "metadata": {},
   "source": [
    "That has mean zero, to within rounding error, and standard deviation $1$. We're ready to move on."
   ]
  },
  {
   "cell_type": "markdown",
   "metadata": {},
   "source": [
    "<div class=\"alert alert-info\" role=\"alert\">\n",
    "As mentioned in the previous project, this isn't the right way to do this. We should separate out the training set <i>first</i>, and use its mean and standard deviation. That avoids the possibility of information about the validation set \"leaking\" into the training set. For just the mean and standard deviation, this isn't really a problem. But for almost anything more complicated it is. <br><br>\n",
    "\n",
    "The reason we haven't done this properly is PyTorch. The way we're doing it is vastly simpler to implement.\n",
    "</div>"
   ]
  },
  {
   "cell_type": "markdown",
   "metadata": {},
   "source": [
    "### Train-Validation Split"
   ]
  },
  {
   "cell_type": "markdown",
   "metadata": {},
   "source": [
    "The next thing we'll need to do is create a training dataset and a validation dataset. We can use the `random_split` tool as we did in the last project."
   ]
  },
  {
   "cell_type": "markdown",
   "metadata": {},
   "source": [
    "**Task 2.2.10:** Use `random_split` to create a training dataset with 80% of the data, and a validation dataset with 20% of the data. Be sure to use `norm_dataset`."
   ]
  },
  {
   "cell_type": "code",
   "execution_count": null,
   "metadata": {},
   "outputs": [],
   "source": [
    "train_dataset, val_dataset = ...\n",
    "\n",
    "length_train = len(train_dataset)\n",
    "length_val = len(val_dataset)\n",
    "length_dataset = len(norm_dataset)\n",
    "percent_train = np.round(100 * length_train / length_dataset, 2)\n",
    "percent_val = np.round(100 * length_val / length_dataset, 2)\n",
    "\n",
    "print(f\"Train data is {percent_train}% of full data\")\n",
    "print(f\"Validation data is {percent_val}% of full data\")"
   ]
  },
  {
   "cell_type": "markdown",
   "metadata": {},
   "source": [
    "As in the previous project, we want to make sure the training data and validation data are similar. We'll want to double check that the two sets have similar proportions of each class.\n",
    "\n",
    "In the previous project, we used a `class_counts` function to count how many observations were in each class. This function is now in the `training.py` file, so we can import it from there. The function takes a dataset (not a data loader) and returns a `pandas` Series of the counts of each class."
   ]
  },
  {
   "cell_type": "code",
   "execution_count": null,
   "metadata": {},
   "outputs": [],
   "source": [
    "from training import class_counts"
   ]
  },
  {
   "cell_type": "markdown",
   "metadata": {},
   "source": [
    "And we can run it to get the number of images in each class in the training set."
   ]
  },
  {
   "cell_type": "code",
   "execution_count": null,
   "metadata": {},
   "outputs": [],
   "source": [
    "train_counts = class_counts(train_dataset)\n",
    "train_counts"
   ]
  },
  {
   "cell_type": "markdown",
   "metadata": {},
   "source": [
    "And we can use `pandas` to make a bar chart."
   ]
  },
  {
   "cell_type": "code",
   "execution_count": null,
   "metadata": {},
   "outputs": [],
   "source": [
    "train_counts.plot(kind=\"bar\");"
   ]
  },
  {
   "cell_type": "markdown",
   "metadata": {},
   "source": [
    "To be able to compare, we'll need to make the same plot for the validation data."
   ]
  },
  {
   "cell_type": "markdown",
   "metadata": {},
   "source": [
    "**Task 2.2.11:** Use `class_counts` to make a `pandas` Series from the validation data, and create the bar chart from it."
   ]
  },
  {
   "cell_type": "code",
   "execution_count": null,
   "metadata": {},
   "outputs": [],
   "source": [
    "val_counts = ...\n",
    "\n",
    "# Create a bar chart from val_counts\n"
   ]
  },
  {
   "cell_type": "markdown",
   "metadata": {},
   "source": [
    "<div class=\"alert alert-info\" role=\"alert\">\n",
    "The random split tool does exactly what it says. It takes the data points and randomly puts 80% in one group and 20% in the other. Of course, we chose 80% and 20%, and could have made a different choice. But it isn't looking at which class a point is in. We're counting on the fact that the random sampling should roughly evenly split each class by chance. This might not happen if we have a small data set. But ours is large enough we shouldn't have to worry.\n",
    "</div>"
   ]
  },
  {
   "cell_type": "markdown",
   "metadata": {},
   "source": [
    "### Unbalanced Classes"
   ]
  },
  {
   "cell_type": "markdown",
   "metadata": {},
   "source": [
    "Unless you got really unlucky, the two graphs should be very similar. \n",
    "\n",
    "But the different classes have different numbers of images. There are fewer bacterial blight images, and more brown streak disease and mosaic disease images. This can cause our model to be biased — it will be less likely to call an image bacterial blight. But that doesn't reflect the world, just our training set!\n",
    "\n",
    "This is an example of _unbalanced classes_. We can correct this by adjusting our dataset. We can either get more images until they're about the same, or remove images from the ones with more.\n",
    "\n",
    "Since we can't get more images, we'll remove some from the larger classes. This is called _undersampling_. The function below will do this for us."
   ]
  },
  {
   "cell_type": "code",
   "execution_count": null,
   "metadata": {},
   "outputs": [],
   "source": [
    "def undersample_dataset(dataset_dir, output_dir, target_count=None):\n",
    "    \"\"\"\n",
    "    Undersample the dataset to have a uniform distribution across classes.\n",
    "\n",
    "    Parameters:\n",
    "    - dataset_dir: Path to the directory containing the class folders.\n",
    "    - output_dir: Path to the directory where the undersampled dataset will be stored.\n",
    "    - target_count: Number of instances to keep in each class. If None, the class with the least instances will set the target.\n",
    "    \"\"\"\n",
    "    # Mapping each class to its files\n",
    "    classes_files = {}\n",
    "    for class_name in os.listdir(dataset_dir):\n",
    "        class_dir = os.path.join(dataset_dir, class_name)\n",
    "        if os.path.isdir(class_dir):\n",
    "            files = os.listdir(class_dir)\n",
    "            classes_files[class_name] = files\n",
    "\n",
    "    # Determine the minimum class size if target_count is not set\n",
    "    if target_count is None:\n",
    "        target_count = min(len(files) for files in classes_files.values())\n",
    "\n",
    "    # Creating the output directory if it doesn't exist\n",
    "    if not os.path.exists(output_dir):\n",
    "        os.makedirs(output_dir)\n",
    "\n",
    "    # Perform undersampling\n",
    "    for class_name, files in classes_files.items():\n",
    "        print(\"Copying images for class\", class_name)\n",
    "        class_output_dir = os.path.join(output_dir, class_name)\n",
    "        if not os.path.exists(class_output_dir):\n",
    "            os.makedirs(class_output_dir)\n",
    "\n",
    "        # Randomly select target_count images\n",
    "        selected_files = random.sample(files, min(len(files), target_count))\n",
    "\n",
    "        # Copy selected files to the output directory\n",
    "        for file_name in tqdm(selected_files):\n",
    "            src_path = os.path.join(dataset_dir, class_name, file_name)\n",
    "            dst_path = os.path.join(class_output_dir, file_name)\n",
    "            copy2(src_path, dst_path)\n",
    "\n",
    "    print(f\"Undersampling completed. Each class has up to {target_count} instances.\")"
   ]
  },
  {
   "cell_type": "markdown",
   "metadata": {},
   "source": [
    "The function works directly with the image files. We tell it what directory contains our data, and where to put the new dataset. We'll create a new directory `data_p2/data_undersampled/train` and write files there."
   ]
  },
  {
   "cell_type": "markdown",
   "metadata": {},
   "source": [
    "**Task 2.2.12:** Create a variable `output_dir` for the new directory `data_p2/data_undersampled/train`."
   ]
  },
  {
   "cell_type": "code",
   "execution_count": null,
   "metadata": {},
   "outputs": [],
   "source": [
    "output_dir = ...\n",
    "print(\"Output directory:\", output_dir)"
   ]
  },
  {
   "cell_type": "markdown",
   "metadata": {},
   "source": [
    "We'll erase that directory if it already exists, and run our function to create a new, balanced dataset."
   ]
  },
  {
   "cell_type": "code",
   "execution_count": null,
   "metadata": {},
   "outputs": [],
   "source": [
    "! rm -rf {output_dir}"
   ]
  },
  {
   "cell_type": "code",
   "execution_count": null,
   "metadata": {},
   "outputs": [],
   "source": [
    "undersample_dataset(train_dir, output_dir)"
   ]
  },
  {
   "cell_type": "markdown",
   "metadata": {},
   "source": [
    "The claim is that all classes should have the same number of images now. Let's check that by running our count. We'll need to create a new dataset first, using the new data."
   ]
  },
  {
   "cell_type": "markdown",
   "metadata": {},
   "source": [
    "**Task 2.2.13:** Create a dataset with `ImageFolder` using the data in the `output_dir`. Transform the data with the `transform_norm`."
   ]
  },
  {
   "cell_type": "code",
   "execution_count": null,
   "metadata": {},
   "outputs": [],
   "source": [
    "undersampled_dataset = ..."
   ]
  },
  {
   "cell_type": "markdown",
   "metadata": {},
   "source": [
    "This data should have the same classes as before."
   ]
  },
  {
   "cell_type": "code",
   "execution_count": null,
   "metadata": {},
   "outputs": [],
   "source": [
    "undersampled_dataset.classes"
   ]
  },
  {
   "cell_type": "markdown",
   "metadata": {},
   "source": [
    "And all the classes should now have the same number of counts. If we recreate the bar plot, every bar should be the same height. We'll also print out the counts to make sure they're _exactly_ the same."
   ]
  },
  {
   "cell_type": "markdown",
   "metadata": {},
   "source": [
    "**Task 2.2.14:** Use `class_counts` to make a `pandas` Series from the undersampled data, and create the bar chart from it."
   ]
  },
  {
   "cell_type": "code",
   "execution_count": null,
   "metadata": {},
   "outputs": [],
   "source": [
    "# Important, don't change this\n",
    "fig, ax = plt.subplots(figsize=(10, 6))\n",
    "\n",
    "under_counts = ...\n",
    "\n",
    "# Create a bar chart from under_counts\n",
    "# important, you must leave `ax=ax`\n",
    "under_counts.plot(..., ax=ax)"
   ]
  },
  {
   "cell_type": "markdown",
   "metadata": {},
   "source": [
    "As we hoped, every class has the same number of images. We'll use this data in later lessons to train our models."
   ]
  },
  {
   "cell_type": "markdown",
   "metadata": {},
   "source": [
    "### Conclusion"
   ]
  },
  {
   "cell_type": "markdown",
   "metadata": {},
   "source": [
    "Good work! We now have data that is normalized and has balanced classes. This will help our models perform better, and make them less likely to favor one class over another. Here are the key ideas we encountered:\n",
    "\n",
    "- Our data needs to be loaded and processed\n",
    "- We can normalize our data to help our models\n",
    "- If we have unbalanced classes, our model might favor one class over another\n",
    "- We can correct this by undersampling, throwing away data in the larger classes\n",
    "\n",
    "In the following lessons, we'll use this data to train several different models. We'll strive towards getting the best classification we can, to give farmers the right information to treat their crops."
   ]
  },
  {
   "cell_type": "markdown",
   "metadata": {
    "deletable": false,
    "editable": false
   },
   "source": [
    "---\n",
    "This file &#169; 2024 by [WorldQuant University](https://www.wqu.edu/) is licensed under [CC BY-NC-ND 4.0](https://creativecommons.org/licenses/by-nc-nd/4.0/)."
   ]
  }
 ],
 "metadata": {
  "kernelspec": {
   "display_name": "Python 3 (ipykernel)",
   "language": "python",
   "name": "python3"
  },
  "language_info": {
   "codemirror_mode": {
    "name": "ipython",
    "version": 3
   },
   "file_extension": ".py",
   "mimetype": "text/x-python",
   "name": "python",
   "nbconvert_exporter": "python",
   "pygments_lexer": "ipython3",
   "version": "3.11.4"
  },
  "widgets": {
   "application/vnd.jupyter.widget-state+json": {
    "state": {
     "00883d7cf7d2419aa9c0b174d4a93166": {
      "model_module": "@jupyter-widgets/controls",
      "model_module_version": "2.0.0",
      "model_name": "FloatProgressModel",
      "state": {
       "bar_style": "success",
       "layout": "IPY_MODEL_6ea3554d2fc04d309d55f22a5270627e",
       "max": 1523,
       "style": "IPY_MODEL_07b786a85262477686db79238b9f40a3",
       "value": 1523
      }
     },
     "00cc0117ce4441b3b0fa3898d5aa9f5e": {
      "model_module": "@jupyter-widgets/controls",
      "model_module_version": "2.0.0",
      "model_name": "HTMLStyleModel",
      "state": {
       "description_width": "",
       "font_size": null,
       "text_color": null
      }
     },
     "03478d8fef404607bf20cce400489ee4": {
      "model_module": "@jupyter-widgets/base",
      "model_module_version": "2.0.0",
      "model_name": "LayoutModel",
      "state": {}
     },
     "06ae5a1bc9994172abac56def7d64539": {
      "model_module": "@jupyter-widgets/controls",
      "model_module_version": "2.0.0",
      "model_name": "HTMLStyleModel",
      "state": {
       "description_width": "",
       "font_size": null,
       "text_color": null
      }
     },
     "06ea11c75c6e484d9d0f7a5c76d15d85": {
      "model_module": "@jupyter-widgets/controls",
      "model_module_version": "2.0.0",
      "model_name": "HTMLStyleModel",
      "state": {
       "description_width": "",
       "font_size": null,
       "text_color": null
      }
     },
     "078f31d1a6d04d8cb4132c3e076b91ca": {
      "model_module": "@jupyter-widgets/controls",
      "model_module_version": "2.0.0",
      "model_name": "ProgressStyleModel",
      "state": {
       "description_width": ""
      }
     },
     "07b786a85262477686db79238b9f40a3": {
      "model_module": "@jupyter-widgets/controls",
      "model_module_version": "2.0.0",
      "model_name": "ProgressStyleModel",
      "state": {
       "description_width": ""
      }
     },
     "0a95e93329344d399ee9ebba79f25573": {
      "model_module": "@jupyter-widgets/controls",
      "model_module_version": "2.0.0",
      "model_name": "HBoxModel",
      "state": {
       "children": [
        "IPY_MODEL_c1766716e38c4979bca3cac0c7040ee8",
        "IPY_MODEL_1a2696536483477baa3ac94ccc774241",
        "IPY_MODEL_d35741cb16ee4ae58a8b677a93d36fcd"
       ],
       "layout": "IPY_MODEL_ee51a621bdf34f91ac262898ba0ef10c"
      }
     },
     "0b30ea6f2e26495fb1351a2ba01b4925": {
      "model_module": "@jupyter-widgets/controls",
      "model_module_version": "2.0.0",
      "model_name": "HTMLStyleModel",
      "state": {
       "description_width": "",
       "font_size": null,
       "text_color": null
      }
     },
     "0e92df9c7d734967b19d0fe4abf092a6": {
      "model_module": "@jupyter-widgets/controls",
      "model_module_version": "2.0.0",
      "model_name": "HTMLModel",
      "state": {
       "layout": "IPY_MODEL_1f8fea6bd856408c8cf19f3fab58ea92",
       "style": "IPY_MODEL_9cafdf69f3484beb976ea9307d6438d1",
       "value": " 466/466 [01:50&lt;00:00,  4.69it/s]"
      }
     },
     "145b2afc6ed042058314aee02c8aa97a": {
      "model_module": "@jupyter-widgets/base",
      "model_module_version": "2.0.0",
      "model_name": "LayoutModel",
      "state": {}
     },
     "1582198e6f9b4451a19b077ea1b298ad": {
      "model_module": "@jupyter-widgets/base",
      "model_module_version": "2.0.0",
      "model_name": "LayoutModel",
      "state": {
       "visibility": "hidden"
      }
     },
     "15fec2603ae44b07bbe5b3d8c9a8677c": {
      "model_module": "@jupyter-widgets/base",
      "model_module_version": "2.0.0",
      "model_name": "LayoutModel",
      "state": {}
     },
     "163ccefe0a2c43ec8969f2846aa9043b": {
      "model_module": "@jupyter-widgets/controls",
      "model_module_version": "2.0.0",
      "model_name": "HTMLModel",
      "state": {
       "layout": "IPY_MODEL_03478d8fef404607bf20cce400489ee4",
       "style": "IPY_MODEL_d41d81eb2f4e49fcb0ea1996ffac923a",
       "value": "100%"
      }
     },
     "168720638c6e430ca6412dc6e50abb42": {
      "model_module": "@jupyter-widgets/controls",
      "model_module_version": "2.0.0",
      "model_name": "FloatProgressModel",
      "state": {
       "bar_style": "success",
       "layout": "IPY_MODEL_c00b763c2a354862b48a0a3de279799a",
       "max": 1523,
       "style": "IPY_MODEL_da8e4194735340099ab92e02919f2b83",
       "value": 1523
      }
     },
     "18f6fff0f2304ff5b70d2f4992d4434a": {
      "model_module": "@jupyter-widgets/base",
      "model_module_version": "2.0.0",
      "model_name": "LayoutModel",
      "state": {}
     },
     "1a2696536483477baa3ac94ccc774241": {
      "model_module": "@jupyter-widgets/controls",
      "model_module_version": "2.0.0",
      "model_name": "FloatProgressModel",
      "state": {
       "bar_style": "success",
       "layout": "IPY_MODEL_666ef8be71e444beb899762479f94628",
       "max": 1523,
       "style": "IPY_MODEL_078f31d1a6d04d8cb4132c3e076b91ca",
       "value": 1523
      }
     },
     "1b2c76cc4dc64bbfbe4e5dad2555ebbc": {
      "model_module": "@jupyter-widgets/base",
      "model_module_version": "2.0.0",
      "model_name": "LayoutModel",
      "state": {}
     },
     "1f8fea6bd856408c8cf19f3fab58ea92": {
      "model_module": "@jupyter-widgets/base",
      "model_module_version": "2.0.0",
      "model_name": "LayoutModel",
      "state": {}
     },
     "25c97f2974334d9bb0cdf1f799a2cad6": {
      "model_module": "@jupyter-widgets/base",
      "model_module_version": "2.0.0",
      "model_name": "LayoutModel",
      "state": {}
     },
     "2ac36c6e292c4261ab9f20921a285acc": {
      "model_module": "@jupyter-widgets/base",
      "model_module_version": "2.0.0",
      "model_name": "LayoutModel",
      "state": {}
     },
     "2d4bfe5cb3384b06a77a0b8cb49affa6": {
      "model_module": "@jupyter-widgets/controls",
      "model_module_version": "2.0.0",
      "model_name": "ProgressStyleModel",
      "state": {
       "description_width": ""
      }
     },
     "30a782214fe047d985f3815d9d9d01c0": {
      "model_module": "@jupyter-widgets/controls",
      "model_module_version": "2.0.0",
      "model_name": "HTMLModel",
      "state": {
       "layout": "IPY_MODEL_1b2c76cc4dc64bbfbe4e5dad2555ebbc",
       "style": "IPY_MODEL_b76ceec147b04f9580be3a5d073bf4e8",
       "value": " 1523/1523 [00:00&lt;00:00, 5818.98it/s]"
      }
     },
     "37cd91738cbc46c987920d77b7633959": {
      "model_module": "@jupyter-widgets/controls",
      "model_module_version": "2.0.0",
      "model_name": "HBoxModel",
      "state": {
       "children": [
        "IPY_MODEL_accb1d0a8be14f4c8e58f9657136aeac",
        "IPY_MODEL_a2c36a5776d74b2c9f814f3de710dcf4",
        "IPY_MODEL_7e6eada816bf4408b01bde59dd289a86"
       ],
       "layout": "IPY_MODEL_fefc73bf8c024712930663d182392b16"
      }
     },
     "3aad05aa56354b54a7f05684a11345b5": {
      "model_module": "@jupyter-widgets/controls",
      "model_module_version": "2.0.0",
      "model_name": "HTMLModel",
      "state": {
       "layout": "IPY_MODEL_f6ac95bfde4d4585a9cfd07312459655",
       "style": "IPY_MODEL_4272a1fe35b242b4a9c6128a33b6cff5",
       "value": "100%"
      }
     },
     "3c3a4e278d9f44d5a73625428ac7ed03": {
      "model_module": "@jupyter-widgets/controls",
      "model_module_version": "2.0.0",
      "model_name": "HTMLStyleModel",
      "state": {
       "description_width": "",
       "font_size": null,
       "text_color": null
      }
     },
     "3c44028762034fe699f81756b87193d4": {
      "model_module": "@jupyter-widgets/controls",
      "model_module_version": "2.0.0",
      "model_name": "HTMLModel",
      "state": {
       "layout": "IPY_MODEL_8887a7a1566e4a7e810310f44f7f3141",
       "style": "IPY_MODEL_4b6d74a026ad4329a5d29fce9274f292",
       "value": " 466/466 [01:35&lt;00:00,  5.40it/s]"
      }
     },
     "4131b81d0f00466eb146ed46ec9bded4": {
      "model_module": "@jupyter-widgets/base",
      "model_module_version": "2.0.0",
      "model_name": "LayoutModel",
      "state": {}
     },
     "414763ab9c3e469fbf8eb853e8fb4f50": {
      "model_module": "@jupyter-widgets/controls",
      "model_module_version": "2.0.0",
      "model_name": "HTMLStyleModel",
      "state": {
       "description_width": "",
       "font_size": null,
       "text_color": null
      }
     },
     "4272a1fe35b242b4a9c6128a33b6cff5": {
      "model_module": "@jupyter-widgets/controls",
      "model_module_version": "2.0.0",
      "model_name": "HTMLStyleModel",
      "state": {
       "description_width": "",
       "font_size": null,
       "text_color": null
      }
     },
     "42c201ca95044b9e856c16a02d8ff15e": {
      "model_module": "@jupyter-widgets/controls",
      "model_module_version": "2.0.0",
      "model_name": "HBoxModel",
      "state": {
       "children": [
        "IPY_MODEL_4b5344ccd7bd476596cb1943166b0b32",
        "IPY_MODEL_692d0559290b4121a8003947956684a3",
        "IPY_MODEL_d21b20aa50ba4414923ea275853e6b61"
       ],
       "layout": "IPY_MODEL_fb2f830d100d4f569180bb5a6c0757c1"
      }
     },
     "4b5344ccd7bd476596cb1943166b0b32": {
      "model_module": "@jupyter-widgets/controls",
      "model_module_version": "2.0.0",
      "model_name": "HTMLModel",
      "state": {
       "layout": "IPY_MODEL_7262fa68ad224a72854fb86368d26a28",
       "style": "IPY_MODEL_3c3a4e278d9f44d5a73625428ac7ed03",
       "value": "100%"
      }
     },
     "4b6d74a026ad4329a5d29fce9274f292": {
      "model_module": "@jupyter-widgets/controls",
      "model_module_version": "2.0.0",
      "model_name": "HTMLStyleModel",
      "state": {
       "description_width": "",
       "font_size": null,
       "text_color": null
      }
     },
     "4ca3ef38816a4e28b6a1337650f38167": {
      "model_module": "@jupyter-widgets/controls",
      "model_module_version": "2.0.0",
      "model_name": "HTMLModel",
      "state": {
       "layout": "IPY_MODEL_7eee29ef01c54b11a249e2727700954a",
       "style": "IPY_MODEL_ca5cf6119b754413bec595cd8d65c0d6",
       "value": "100%"
      }
     },
     "4d8376faa906418b915ffe92a67d1706": {
      "model_module": "@jupyter-widgets/controls",
      "model_module_version": "2.0.0",
      "model_name": "HTMLModel",
      "state": {
       "layout": "IPY_MODEL_d8e7ba13bac54e94b6693edc40037571",
       "style": "IPY_MODEL_414763ab9c3e469fbf8eb853e8fb4f50",
       "value": "Computing mean and std: 100%"
      }
     },
     "56cdfa2487634f229617d6afa4fb4df2": {
      "model_module": "@jupyter-widgets/controls",
      "model_module_version": "2.0.0",
      "model_name": "ProgressStyleModel",
      "state": {
       "description_width": ""
      }
     },
     "57fd636f153c41d09b9cf610a982144f": {
      "model_module": "@jupyter-widgets/controls",
      "model_module_version": "2.0.0",
      "model_name": "HBoxModel",
      "state": {
       "children": [
        "IPY_MODEL_163ccefe0a2c43ec8969f2846aa9043b",
        "IPY_MODEL_168720638c6e430ca6412dc6e50abb42",
        "IPY_MODEL_8ee5442732ea4feb9b84136867e3d3bf"
       ],
       "layout": "IPY_MODEL_b029d34a97a349bc8c21fff949c49af0"
      }
     },
     "5b87a068ed544c5a808d84b3e7c3ce64": {
      "model_module": "@jupyter-widgets/controls",
      "model_module_version": "2.0.0",
      "model_name": "HTMLModel",
      "state": {
       "layout": "IPY_MODEL_cdc2aac2c3ba458c8b26874647fb24a2",
       "style": "IPY_MODEL_06ae5a1bc9994172abac56def7d64539",
       "value": " 1523/1523 [00:00&lt;00:00, 5403.21it/s]"
      }
     },
     "5c94ba74249847bca3f40db617de6016": {
      "model_module": "@jupyter-widgets/controls",
      "model_module_version": "2.0.0",
      "model_name": "ProgressStyleModel",
      "state": {
       "description_width": ""
      }
     },
     "5d0da1006c3c4f89805c82a14c228667": {
      "model_module": "@jupyter-widgets/controls",
      "model_module_version": "2.0.0",
      "model_name": "FloatProgressModel",
      "state": {
       "layout": "IPY_MODEL_db5a8d63d556483b87a650f8c99d43fc",
       "max": 466,
       "style": "IPY_MODEL_736506f6fa82470b85e980357eb61536",
       "value": 466
      }
     },
     "6261720794c741c9b954ebdf719cf1a4": {
      "model_module": "@jupyter-widgets/base",
      "model_module_version": "2.0.0",
      "model_name": "LayoutModel",
      "state": {}
     },
     "65855e1c431d485ca47ea4d9df1835df": {
      "model_module": "@jupyter-widgets/controls",
      "model_module_version": "2.0.0",
      "model_name": "HTMLStyleModel",
      "state": {
       "description_width": "",
       "font_size": null,
       "text_color": null
      }
     },
     "666ef8be71e444beb899762479f94628": {
      "model_module": "@jupyter-widgets/base",
      "model_module_version": "2.0.0",
      "model_name": "LayoutModel",
      "state": {}
     },
     "682edb8597d5436386c989350d8b6bc3": {
      "model_module": "@jupyter-widgets/controls",
      "model_module_version": "2.0.0",
      "model_name": "HTMLModel",
      "state": {
       "layout": "IPY_MODEL_78ce79cfb81d490d8418e54e823e34d5",
       "style": "IPY_MODEL_65855e1c431d485ca47ea4d9df1835df",
       "value": " 1523/1523 [00:00&lt;00:00, 5416.44it/s]"
      }
     },
     "692d0559290b4121a8003947956684a3": {
      "model_module": "@jupyter-widgets/controls",
      "model_module_version": "2.0.0",
      "model_name": "FloatProgressModel",
      "state": {
       "bar_style": "success",
       "layout": "IPY_MODEL_25c97f2974334d9bb0cdf1f799a2cad6",
       "max": 7615,
       "style": "IPY_MODEL_56cdfa2487634f229617d6afa4fb4df2",
       "value": 7615
      }
     },
     "6b9db550cf54485abb6cc11ac4a3e237": {
      "model_module": "@jupyter-widgets/controls",
      "model_module_version": "2.0.0",
      "model_name": "HTMLStyleModel",
      "state": {
       "description_width": "",
       "font_size": null,
       "text_color": null
      }
     },
     "6ea3554d2fc04d309d55f22a5270627e": {
      "model_module": "@jupyter-widgets/base",
      "model_module_version": "2.0.0",
      "model_name": "LayoutModel",
      "state": {}
     },
     "7262fa68ad224a72854fb86368d26a28": {
      "model_module": "@jupyter-widgets/base",
      "model_module_version": "2.0.0",
      "model_name": "LayoutModel",
      "state": {}
     },
     "736506f6fa82470b85e980357eb61536": {
      "model_module": "@jupyter-widgets/controls",
      "model_module_version": "2.0.0",
      "model_name": "ProgressStyleModel",
      "state": {
       "description_width": ""
      }
     },
     "7683dd631a614251a2dd697c4b4b7864": {
      "model_module": "@jupyter-widgets/base",
      "model_module_version": "2.0.0",
      "model_name": "LayoutModel",
      "state": {}
     },
     "78ce79cfb81d490d8418e54e823e34d5": {
      "model_module": "@jupyter-widgets/base",
      "model_module_version": "2.0.0",
      "model_name": "LayoutModel",
      "state": {}
     },
     "7be3e79c208f4840bc983f7367097f20": {
      "model_module": "@jupyter-widgets/controls",
      "model_module_version": "2.0.0",
      "model_name": "HTMLModel",
      "state": {
       "layout": "IPY_MODEL_fe626d0f56fb45bc95ae2384a6ac8a46",
       "style": "IPY_MODEL_fa77017a43e441cca39c98eda23d7d18",
       "value": "100%"
      }
     },
     "7e6eada816bf4408b01bde59dd289a86": {
      "model_module": "@jupyter-widgets/controls",
      "model_module_version": "2.0.0",
      "model_name": "HTMLModel",
      "state": {
       "layout": "IPY_MODEL_afd0156f77f846f0b10f245c8766e129",
       "style": "IPY_MODEL_862e61c1a674436d8f5733d8b02281c6",
       "value": " 2571/11923 [00:16&lt;01:02, 150.53it/s]"
      }
     },
     "7eee29ef01c54b11a249e2727700954a": {
      "model_module": "@jupyter-widgets/base",
      "model_module_version": "2.0.0",
      "model_name": "LayoutModel",
      "state": {}
     },
     "8116649930a7427faa7809f9e37cfcab": {
      "model_module": "@jupyter-widgets/controls",
      "model_module_version": "2.0.0",
      "model_name": "HBoxModel",
      "state": {
       "children": [
        "IPY_MODEL_7be3e79c208f4840bc983f7367097f20",
        "IPY_MODEL_d60b8fdad78e478ea6acc6e9cc35f4e0",
        "IPY_MODEL_5b87a068ed544c5a808d84b3e7c3ce64"
       ],
       "layout": "IPY_MODEL_145b2afc6ed042058314aee02c8aa97a"
      }
     },
     "84aa190e39ca4915b932836810a221d7": {
      "model_module": "@jupyter-widgets/base",
      "model_module_version": "2.0.0",
      "model_name": "LayoutModel",
      "state": {}
     },
     "862e61c1a674436d8f5733d8b02281c6": {
      "model_module": "@jupyter-widgets/controls",
      "model_module_version": "2.0.0",
      "model_name": "HTMLStyleModel",
      "state": {
       "description_width": "",
       "font_size": null,
       "text_color": null
      }
     },
     "8887a7a1566e4a7e810310f44f7f3141": {
      "model_module": "@jupyter-widgets/base",
      "model_module_version": "2.0.0",
      "model_name": "LayoutModel",
      "state": {}
     },
     "8e304bd37ea94eb2aa5587b3d16ff47c": {
      "model_module": "@jupyter-widgets/controls",
      "model_module_version": "2.0.0",
      "model_name": "HTMLModel",
      "state": {
       "layout": "IPY_MODEL_ed10d56a9dae42b781af1c95095563e7",
       "style": "IPY_MODEL_00cc0117ce4441b3b0fa3898d5aa9f5e",
       "value": "Computing mean and std: 100%"
      }
     },
     "8ee5442732ea4feb9b84136867e3d3bf": {
      "model_module": "@jupyter-widgets/controls",
      "model_module_version": "2.0.0",
      "model_name": "HTMLModel",
      "state": {
       "layout": "IPY_MODEL_929908f5af2d407babea5e9df1b5169f",
       "style": "IPY_MODEL_6b9db550cf54485abb6cc11ac4a3e237",
       "value": " 1523/1523 [00:00&lt;00:00, 5682.65it/s]"
      }
     },
     "929908f5af2d407babea5e9df1b5169f": {
      "model_module": "@jupyter-widgets/base",
      "model_module_version": "2.0.0",
      "model_name": "LayoutModel",
      "state": {}
     },
     "9cafdf69f3484beb976ea9307d6438d1": {
      "model_module": "@jupyter-widgets/controls",
      "model_module_version": "2.0.0",
      "model_name": "HTMLStyleModel",
      "state": {
       "description_width": "",
       "font_size": null,
       "text_color": null
      }
     },
     "a2c36a5776d74b2c9f814f3de710dcf4": {
      "model_module": "@jupyter-widgets/controls",
      "model_module_version": "2.0.0",
      "model_name": "FloatProgressModel",
      "state": {
       "bar_style": "danger",
       "layout": "IPY_MODEL_6261720794c741c9b954ebdf719cf1a4",
       "max": 11923,
       "style": "IPY_MODEL_b7af73ba9d634c8b9f8b6e43920c82c8",
       "value": 2571
      }
     },
     "a3ea432a2e0c4d989b4de7911c2b0e5a": {
      "model_module": "@jupyter-widgets/base",
      "model_module_version": "2.0.0",
      "model_name": "LayoutModel",
      "state": {}
     },
     "a4de35a0c6514f53b2d81b0dbbaa9f9f": {
      "model_module": "@jupyter-widgets/controls",
      "model_module_version": "2.0.0",
      "model_name": "HTMLStyleModel",
      "state": {
       "description_width": "",
       "font_size": null,
       "text_color": null
      }
     },
     "a9e90b5488734ae7bb7fe9217252016d": {
      "model_module": "@jupyter-widgets/controls",
      "model_module_version": "2.0.0",
      "model_name": "FloatProgressModel",
      "state": {
       "bar_style": "success",
       "layout": "IPY_MODEL_c78d6dac6c9f4387a21413c7cbb8cd43",
       "max": 1523,
       "style": "IPY_MODEL_5c94ba74249847bca3f40db617de6016",
       "value": 1523
      }
     },
     "ab3a16bcceac4686903011974e1cb27a": {
      "model_module": "@jupyter-widgets/controls",
      "model_module_version": "2.0.0",
      "model_name": "HTMLStyleModel",
      "state": {
       "description_width": "",
       "font_size": null,
       "text_color": null
      }
     },
     "accb1d0a8be14f4c8e58f9657136aeac": {
      "model_module": "@jupyter-widgets/controls",
      "model_module_version": "2.0.0",
      "model_name": "HTMLModel",
      "state": {
       "layout": "IPY_MODEL_2ac36c6e292c4261ab9f20921a285acc",
       "style": "IPY_MODEL_ab3a16bcceac4686903011974e1cb27a",
       "value": " 22%"
      }
     },
     "afd0156f77f846f0b10f245c8766e129": {
      "model_module": "@jupyter-widgets/base",
      "model_module_version": "2.0.0",
      "model_name": "LayoutModel",
      "state": {}
     },
     "b029d34a97a349bc8c21fff949c49af0": {
      "model_module": "@jupyter-widgets/base",
      "model_module_version": "2.0.0",
      "model_name": "LayoutModel",
      "state": {}
     },
     "b76ceec147b04f9580be3a5d073bf4e8": {
      "model_module": "@jupyter-widgets/controls",
      "model_module_version": "2.0.0",
      "model_name": "HTMLStyleModel",
      "state": {
       "description_width": "",
       "font_size": null,
       "text_color": null
      }
     },
     "b7af73ba9d634c8b9f8b6e43920c82c8": {
      "model_module": "@jupyter-widgets/controls",
      "model_module_version": "2.0.0",
      "model_name": "ProgressStyleModel",
      "state": {
       "description_width": ""
      }
     },
     "c00b763c2a354862b48a0a3de279799a": {
      "model_module": "@jupyter-widgets/base",
      "model_module_version": "2.0.0",
      "model_name": "LayoutModel",
      "state": {}
     },
     "c1766716e38c4979bca3cac0c7040ee8": {
      "model_module": "@jupyter-widgets/controls",
      "model_module_version": "2.0.0",
      "model_name": "HTMLModel",
      "state": {
       "layout": "IPY_MODEL_a3ea432a2e0c4d989b4de7911c2b0e5a",
       "style": "IPY_MODEL_a4de35a0c6514f53b2d81b0dbbaa9f9f",
       "value": "100%"
      }
     },
     "c78d6dac6c9f4387a21413c7cbb8cd43": {
      "model_module": "@jupyter-widgets/base",
      "model_module_version": "2.0.0",
      "model_name": "LayoutModel",
      "state": {}
     },
     "ca5cf6119b754413bec595cd8d65c0d6": {
      "model_module": "@jupyter-widgets/controls",
      "model_module_version": "2.0.0",
      "model_name": "HTMLStyleModel",
      "state": {
       "description_width": "",
       "font_size": null,
       "text_color": null
      }
     },
     "cdc2aac2c3ba458c8b26874647fb24a2": {
      "model_module": "@jupyter-widgets/base",
      "model_module_version": "2.0.0",
      "model_name": "LayoutModel",
      "state": {}
     },
     "ce335746896744569c1883de78cb4cf0": {
      "model_module": "@jupyter-widgets/base",
      "model_module_version": "2.0.0",
      "model_name": "LayoutModel",
      "state": {
       "visibility": "hidden"
      }
     },
     "cf0e8346a6e74ddca373380e9401e331": {
      "model_module": "@jupyter-widgets/controls",
      "model_module_version": "2.0.0",
      "model_name": "HBoxModel",
      "state": {
       "children": [
        "IPY_MODEL_3aad05aa56354b54a7f05684a11345b5",
        "IPY_MODEL_00883d7cf7d2419aa9c0b174d4a93166",
        "IPY_MODEL_30a782214fe047d985f3815d9d9d01c0"
       ],
       "layout": "IPY_MODEL_84aa190e39ca4915b932836810a221d7"
      }
     },
     "d21b20aa50ba4414923ea275853e6b61": {
      "model_module": "@jupyter-widgets/controls",
      "model_module_version": "2.0.0",
      "model_name": "HTMLModel",
      "state": {
       "layout": "IPY_MODEL_4131b81d0f00466eb146ed46ec9bded4",
       "style": "IPY_MODEL_06ea11c75c6e484d9d0f7a5c76d15d85",
       "value": " 7615/7615 [00:46&lt;00:00, 174.12it/s]"
      }
     },
     "d35741cb16ee4ae58a8b677a93d36fcd": {
      "model_module": "@jupyter-widgets/controls",
      "model_module_version": "2.0.0",
      "model_name": "HTMLModel",
      "state": {
       "layout": "IPY_MODEL_18f6fff0f2304ff5b70d2f4992d4434a",
       "style": "IPY_MODEL_0b30ea6f2e26495fb1351a2ba01b4925",
       "value": " 1523/1523 [00:00&lt;00:00, 5128.06it/s]"
      }
     },
     "d41d81eb2f4e49fcb0ea1996ffac923a": {
      "model_module": "@jupyter-widgets/controls",
      "model_module_version": "2.0.0",
      "model_name": "HTMLStyleModel",
      "state": {
       "description_width": "",
       "font_size": null,
       "text_color": null
      }
     },
     "d60b8fdad78e478ea6acc6e9cc35f4e0": {
      "model_module": "@jupyter-widgets/controls",
      "model_module_version": "2.0.0",
      "model_name": "FloatProgressModel",
      "state": {
       "bar_style": "success",
       "layout": "IPY_MODEL_dcad7035eee74b2e9a06a5182d561485",
       "max": 1523,
       "style": "IPY_MODEL_e5b84f96e97f4a8d8d5e6c9ca01d7e57",
       "value": 1523
      }
     },
     "d8e7ba13bac54e94b6693edc40037571": {
      "model_module": "@jupyter-widgets/base",
      "model_module_version": "2.0.0",
      "model_name": "LayoutModel",
      "state": {}
     },
     "da8e4194735340099ab92e02919f2b83": {
      "model_module": "@jupyter-widgets/controls",
      "model_module_version": "2.0.0",
      "model_name": "ProgressStyleModel",
      "state": {
       "description_width": ""
      }
     },
     "db5a8d63d556483b87a650f8c99d43fc": {
      "model_module": "@jupyter-widgets/base",
      "model_module_version": "2.0.0",
      "model_name": "LayoutModel",
      "state": {}
     },
     "dcad7035eee74b2e9a06a5182d561485": {
      "model_module": "@jupyter-widgets/base",
      "model_module_version": "2.0.0",
      "model_name": "LayoutModel",
      "state": {}
     },
     "e5b84f96e97f4a8d8d5e6c9ca01d7e57": {
      "model_module": "@jupyter-widgets/controls",
      "model_module_version": "2.0.0",
      "model_name": "ProgressStyleModel",
      "state": {
       "description_width": ""
      }
     },
     "ed10d56a9dae42b781af1c95095563e7": {
      "model_module": "@jupyter-widgets/base",
      "model_module_version": "2.0.0",
      "model_name": "LayoutModel",
      "state": {}
     },
     "ed5612128eeb474b8ddcb0747ac1cdfc": {
      "model_module": "@jupyter-widgets/controls",
      "model_module_version": "2.0.0",
      "model_name": "FloatProgressModel",
      "state": {
       "layout": "IPY_MODEL_7683dd631a614251a2dd697c4b4b7864",
       "max": 466,
       "style": "IPY_MODEL_2d4bfe5cb3384b06a77a0b8cb49affa6",
       "value": 466
      }
     },
     "ee51a621bdf34f91ac262898ba0ef10c": {
      "model_module": "@jupyter-widgets/base",
      "model_module_version": "2.0.0",
      "model_name": "LayoutModel",
      "state": {}
     },
     "f33147171f8a47ca96ae3aea8b83f416": {
      "model_module": "@jupyter-widgets/controls",
      "model_module_version": "2.0.0",
      "model_name": "HBoxModel",
      "state": {
       "children": [
        "IPY_MODEL_4ca3ef38816a4e28b6a1337650f38167",
        "IPY_MODEL_a9e90b5488734ae7bb7fe9217252016d",
        "IPY_MODEL_682edb8597d5436386c989350d8b6bc3"
       ],
       "layout": "IPY_MODEL_15fec2603ae44b07bbe5b3d8c9a8677c"
      }
     },
     "f6ac95bfde4d4585a9cfd07312459655": {
      "model_module": "@jupyter-widgets/base",
      "model_module_version": "2.0.0",
      "model_name": "LayoutModel",
      "state": {}
     },
     "fa77017a43e441cca39c98eda23d7d18": {
      "model_module": "@jupyter-widgets/controls",
      "model_module_version": "2.0.0",
      "model_name": "HTMLStyleModel",
      "state": {
       "description_width": "",
       "font_size": null,
       "text_color": null
      }
     },
     "fb2f830d100d4f569180bb5a6c0757c1": {
      "model_module": "@jupyter-widgets/base",
      "model_module_version": "2.0.0",
      "model_name": "LayoutModel",
      "state": {}
     },
     "fe626d0f56fb45bc95ae2384a6ac8a46": {
      "model_module": "@jupyter-widgets/base",
      "model_module_version": "2.0.0",
      "model_name": "LayoutModel",
      "state": {}
     },
     "fefc73bf8c024712930663d182392b16": {
      "model_module": "@jupyter-widgets/base",
      "model_module_version": "2.0.0",
      "model_name": "LayoutModel",
      "state": {}
     }
    },
    "version_major": 2,
    "version_minor": 0
   }
  }
 },
 "nbformat": 4,
 "nbformat_minor": 4
}
