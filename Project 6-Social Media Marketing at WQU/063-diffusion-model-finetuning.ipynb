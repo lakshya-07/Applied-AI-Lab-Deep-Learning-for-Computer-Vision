{
 "cells": [
  {
   "cell_type": "markdown",
   "metadata": {},
   "source": [
    "### Getting Ready"
   ]
  },
  {
   "cell_type": "markdown",
   "metadata": {},
   "source": [
    "We'll start by importing the packages we need.  In addition to the diffusers library, we'll load two new modules from Hugging Face.\n",
    "- [datasets](https://huggingface.co/docs/datasets/index) gives access to data sets stored on [Hugging Face Hub](https://huggingface.co/datasets).\n",
    "- [huggingface_hub](https://huggingface.co/docs/huggingface_hub/index) is a Python client to the Hugging Face Hub API."
   ]
  },
  {
   "cell_type": "code",
   "execution_count": null,
   "metadata": {},
   "outputs": [],
   "source": [
    "import os\n",
    "import sys\n",
    "\n",
    "import datasets\n",
    "import diffusers\n",
    "import huggingface_hub\n",
    "import requests\n",
    "import torch\n",
    "from dotenv import load_dotenv\n",
    "from huggingface_hub import HfApi\n",
    "from IPython.display import display"
   ]
  },
  {
   "cell_type": "markdown",
   "metadata": {},
   "source": [
    "We'll print out version number of the critical packages, to help with future reproducibility."
   ]
  },
  {
   "cell_type": "code",
   "execution_count": null,
   "metadata": {},
   "outputs": [],
   "source": [
    "print(\"Platform:\", sys.platform)\n",
    "print(\"Python version:\", sys.version)\n",
    "print(\"---\")\n",
    "print(\"datasets version: \", datasets.__version__)\n",
    "print(\"diffusers version: \", diffusers.__version__)\n",
    "print(\"huggingface_hub version: \", huggingface_hub.__version__)\n",
    "print(\"torch version:\", torch.__version__)"
   ]
  },
  {
   "cell_type": "markdown",
   "metadata": {},
   "source": [
    "Let's check if a GPU is available.  If not, this notebook will take a long time to run!"
   ]
  },
  {
   "cell_type": "code",
   "execution_count": null,
   "metadata": {},
   "outputs": [],
   "source": [
    "if torch.cuda.is_available():\n",
    "    device = \"cuda\"\n",
    "    dtype = torch.float16\n",
    "else:\n",
    "    device = \"cpu\"\n",
    "    dtype = torch.float32\n",
    "\n",
    "print(f\"Using {device} device with {dtype} data type.\")"
   ]
  },
  {
   "cell_type": "markdown",
   "metadata": {},
   "source": [
    "### Load Stable Diffusion"
   ]
  },
  {
   "cell_type": "markdown",
   "metadata": {},
   "source": [
    "We'll start by loading in the same Stable Diffusion pipeline we used in the previous lesson.  We could use the `StableDiffusionPipeline` as before, if we wanted.  But the diffusers library has a handy `AutoPipelineForText2Image` class, which will figure out the right pipeline to use based on the model it's given."
   ]
  },
  {
   "cell_type": "markdown",
   "metadata": {},
   "source": [
    "**Task 6.3.1:** Load the Stable Diffusion v1.4 pipeline."
   ]
  },
  {
   "cell_type": "code",
   "execution_count": null,
   "metadata": {},
   "outputs": [],
   "source": [
    "MODEL_NAME = \"CompVis/stable-diffusion-v1-4\"\n",
    "\n",
    "pipeline = ...\n",
    "pipeline.to(device)\n",
    "\n",
    "print(type(pipeline))"
   ]
  },
  {
   "cell_type": "markdown",
   "metadata": {},
   "source": [
    "Our goal is to use this to generate images of our dog Maya.  Here's a picture:\n",
    "\n",
    "![Maya](images/maya.jpg)\n",
    "\n",
    "Does Stable Diffusion already know what she looks like?"
   ]
  },
  {
   "cell_type": "markdown",
   "metadata": {},
   "source": [
    "**Task 6.3.2:** Generate four images with the prompt, \"My dog Maya.\""
   ]
  },
  {
   "cell_type": "code",
   "execution_count": null,
   "metadata": {},
   "outputs": [],
   "source": [
    "images = ...\n",
    "\n",
    "for im in images:\n",
    "    display(im)"
   ]
  },
  {
   "cell_type": "markdown",
   "metadata": {},
   "source": [
    "### Load Data Set for Fine Tuning"
   ]
  },
  {
   "cell_type": "markdown",
   "metadata": {},
   "source": [
    "While Stable Diffusion can produce many cute looking dogs, it obviously doesn't know what Maya looks like.  And that's expected&mdash;clearly the model can't know what every dog in the entire world looks like!\n",
    "\n",
    "We can fix that by fine-tuning the model on pictures of Maya.  To do this, we'll need a data set with pictures of Maya.  Luckily for us, this [data set already exists](https://huggingface.co/datasets/worldquant-university/maya-dataset-v1) on Hugging Face Hub!\n",
    "\n",
    "Data sets on Hugging Face Hub are identified as `user/dataset`."
   ]
  },
  {
   "cell_type": "markdown",
   "metadata": {},
   "source": [
    "**Task 6.3.3:** Create a data set builder, which will let us access metadata about this data set."
   ]
  },
  {
   "cell_type": "code",
   "execution_count": null,
   "metadata": {},
   "outputs": [],
   "source": [
    "DATASET_NAME = ...\n",
    "data_builder = datasets.load_dataset_builder(DATASET_NAME)\n",
    "\n",
    "print(data_builder.dataset_name)"
   ]
  },
  {
   "cell_type": "markdown",
   "metadata": {},
   "source": [
    "This builder object has downloaded metadata about the data set.  This allows us to see what features are available, for example."
   ]
  },
  {
   "cell_type": "code",
   "execution_count": null,
   "metadata": {},
   "outputs": [],
   "source": [
    "print(data_builder.info.features)"
   ]
  },
  {
   "cell_type": "markdown",
   "metadata": {},
   "source": [
    "**Task 6.3.4:** Determine which splits are included.  There is a `.splits` attribute in the `.info` property of our builder."
   ]
  },
  {
   "cell_type": "code",
   "execution_count": null,
   "metadata": {},
   "outputs": [],
   "source": [
    "print(...)"
   ]
  },
  {
   "cell_type": "markdown",
   "metadata": {},
   "source": [
    "This builder didn't download all of the data.  This is nice in general, since many data sets can be very large.  We can see above that there are only 26 rows in this dataset, so we can afford to download the whole thing."
   ]
  },
  {
   "cell_type": "markdown",
   "metadata": {},
   "source": [
    "**Task 6.3.5:** Load the Maya data set from Hugging Face Hub."
   ]
  },
  {
   "cell_type": "code",
   "execution_count": null,
   "metadata": {},
   "outputs": [],
   "source": [
    "data = datasets.load_dataset(...)\n",
    "\n",
    "print(data)"
   ]
  },
  {
   "cell_type": "markdown",
   "metadata": {},
   "source": [
    "This `DatasetDict` acts like a dictionary.  We can use key indexing to find the data itself."
   ]
  },
  {
   "cell_type": "code",
   "execution_count": null,
   "metadata": {},
   "outputs": [],
   "source": [
    "data[\"train\"][\"image\"]"
   ]
  },
  {
   "cell_type": "markdown",
   "metadata": {},
   "source": [
    "**Task 6.3.6:** Display the fourth image. (Or take a look at more of them, if you like!)"
   ]
  },
  {
   "cell_type": "code",
   "execution_count": null,
   "metadata": {},
   "outputs": [],
   "source": [
    "# The values are PIL images, so they will be displayed\n",
    "# automatically by Jupyter.\n"
   ]
  },
  {
   "cell_type": "markdown",
   "metadata": {},
   "source": [
    "**Task 6.3.7:** Print out the text associated with each row in the training data."
   ]
  },
  {
   "cell_type": "code",
   "execution_count": null,
   "metadata": {},
   "outputs": [],
   "source": [
    "# Use dictionary indexing to look up the text values.\n"
   ]
  },
  {
   "cell_type": "markdown",
   "metadata": {},
   "source": [
    "If the fine-tuning works, the model should figure out what \"My dog Maya\" looks like."
   ]
  },
  {
   "cell_type": "markdown",
   "metadata": {},
   "source": [
    "### LoRA Fine-tuning"
   ]
  },
  {
   "cell_type": "markdown",
   "metadata": {},
   "source": [
    "We have the model and we have the data, so we're ready to do the LoRA fine-tuning.  The actual process is rather involved.  Luckily, we don't have to program it ourselves.  The diffusers project includes [a script](https://github.com/huggingface/diffusers/blob/main/examples/text_to_image/train_text_to_image_lora.py) that does LoRA fine-tuning of a Hugging Face model based on a Hugging Face data set.  There's a copy of this script in the same directory as this notebook: [`train_text_to_image_lora.py`](train_text_to_image_lora.py).\n",
    "\n",
    "In addition to the model and data set names, we'll need to tell the script where to save the LoRA weights.  It's up to you, but we'd recommend `maya_model_v1_lora`."
   ]
  },
  {
   "cell_type": "markdown",
   "metadata": {},
   "source": [
    "**Task 6.3.8:** Set the `OUTPUT_DIR` variable with the correct value."
   ]
  },
  {
   "cell_type": "code",
   "execution_count": null,
   "metadata": {},
   "outputs": [],
   "source": [
    "OUTPUT_DIR = ..."
   ]
  },
  {
   "cell_type": "markdown",
   "metadata": {},
   "source": [
    "**Task 6.3.9:** Inspect the `train_text_to_image_lora.py` script."
   ]
  },
  {
   "cell_type": "markdown",
   "metadata": {},
   "source": [
    "**Due to GPU limitations you CAN NOT run this script.**\n",
    "\n",
    "It's an advanced (and long) script. But if you want, take a look at it to familiarize yourself with the process of fine tuning."
   ]
  },
  {
   "cell_type": "markdown",
   "metadata": {},
   "source": [
    "<div class=\"alert alert-info\" role=\"alert\">\n",
    "    <p><b>Changes with respect to the video</b></p>\n",
    "    <p>The instructor in the video is executing the script in the notebook. But due to high GPU usage, we can't replicate it in your interactive environment.</p>\n",
    "    <p><b>Please, do NOT try running the script as it'll fail and restart your lab environment</b></p>\n",
    "    <p>Instead, we have already ran the script for you with different training epochs and stored the results in the output directory.</p>\n",
    "</div>"
   ]
  },
  {
   "cell_type": "markdown",
   "metadata": {},
   "source": [
    "This command could take an hour to complete.  Once it's done, there should be a `pytorch_lora_weights.safetensors` file in the output directory."
   ]
  },
  {
   "cell_type": "code",
   "execution_count": null,
   "metadata": {},
   "outputs": [],
   "source": [
    "!ls -lah $OUTPUT_DIR"
   ]
  },
  {
   "cell_type": "markdown",
   "metadata": {},
   "source": [
    "<div class=\"alert alert-info\" role=\"alert\">\n",
    "    <p><b>Changes with respect to the video</b></p>\n",
    "    <p>We have provided MULTIPLE examples of fine tuning with different epochs so you can compare.</p>\n",
    "</div>"
   ]
  },
  {
   "cell_type": "markdown",
   "metadata": {},
   "source": [
    "### Load LoRA Weights"
   ]
  },
  {
   "cell_type": "markdown",
   "metadata": {},
   "source": [
    "Now that we have the LoRA weights, we can load them into the pipeline we already have.  The pipeline has a `.load_lora_weights()` method that can take a directory path as an argument.  The file name of the weights file is given separately in the `weight_name` argument."
   ]
  },
  {
   "cell_type": "markdown",
   "metadata": {},
   "source": [
    "**Task 6.3.10:** Load the LoRA weights into our pipeline."
   ]
  },
  {
   "cell_type": "markdown",
   "metadata": {},
   "source": [
    "<div class=\"alert alert-info\" role=\"alert\">\n",
    "    <p><b>Changes with respect to the video</b></p>\n",
    "    <p>We have picked the weights trained for 10 epochs. You can choose your own. If you're going to choose another one, make sure to invoke:\n",
    "    <code><pre>pipeline.unload_lora_weights()</pre></code></p>\n",
    "</div>"
   ]
  },
  {
   "cell_type": "code",
   "execution_count": null,
   "metadata": {},
   "outputs": [],
   "source": [
    "pipeline.load_lora_weights(\n",
    "    ..., # Directory containing weights file\n",
    "\n",
    "    weight_name=\"pytorch_lora_weights.10_epochs.safetensors\",\n",
    ")"
   ]
  },
  {
   "cell_type": "markdown",
   "metadata": {},
   "source": [
    "**Task 6.3.11:** Generate four images of \"My dog Maya\" with the fine-tuned model."
   ]
  },
  {
   "cell_type": "code",
   "execution_count": null,
   "metadata": {},
   "outputs": [],
   "source": [
    "images = ...\n",
    "\n",
    "for im in images:\n",
    "    display(im)"
   ]
  },
  {
   "cell_type": "markdown",
   "metadata": {},
   "source": [
    "These should look (a bit) more like Maya!"
   ]
  },
  {
   "cell_type": "markdown",
   "metadata": {},
   "source": [
    "# Conclusion"
   ]
  },
  {
   "cell_type": "markdown",
   "metadata": {},
   "source": [
    "You've now used the fine-tuned model to produce images of our dog Maya that look (a bit more) like her.  If we had more training data and had trained for more epochs, perhaps the model would perform even better.  By using the LoRA algorithm, we could do the fine-tuning with only a fraction of the parameters in the original model.  (Note that the file containing the LoRA weights is about 3 MB in size.  The full weights for the Stable Diffusion model are about 3 GB in size!)\n",
    "\n",
    "In the process, we've learned:\n",
    "- How to download data sets from Hugging Face.\n",
    "- How to run LoRA from a script.\n",
    "- How to load the LoRA weights into a Stable Diffusion pipeline.\n",
    "- How to set up a Hugging Face token for API access.\n",
    "- How to upload weights to Hugging Face repository.\n",
    "\n",
    "In the next lesson, we'll use our fine-tuned model as a component in a Streamlit web app."
   ]
  }
 ],
 "metadata": {
  "accelerator": "GPU",
  "colab": {
   "gpuType": "T4",
   "provenance": []
  },
  "kernelspec": {
   "display_name": "Python 3 (ipykernel)",
   "language": "python",
   "name": "python3"
  },
  "language_info": {
   "codemirror_mode": {
    "name": "ipython",
    "version": 3
   },
   "file_extension": ".py",
   "mimetype": "text/x-python",
   "name": "python",
   "nbconvert_exporter": "python",
   "pygments_lexer": "ipython3",
   "version": "3.11.4"
  },
  "widgets": {
   "application/vnd.jupyter.widget-state+json": {
    "state": {
     "00b9cc5a10974e3d943ae66ccdb2c657": {
      "model_module": "@jupyter-widgets/base",
      "model_module_version": "2.0.0",
      "model_name": "LayoutModel",
      "state": {}
     },
     "017cd9885fde46f59a308c071fefe887": {
      "model_module": "@jupyter-widgets/controls",
      "model_module_version": "2.0.0",
      "model_name": "HTMLStyleModel",
      "state": {
       "description_width": "",
       "font_size": null,
       "text_color": null
      }
     },
     "0180447433a34052a6d72faf7ab186f6": {
      "model_module": "@jupyter-widgets/controls",
      "model_module_version": "2.0.0",
      "model_name": "HTMLStyleModel",
      "state": {
       "description_width": "",
       "font_size": null,
       "text_color": null
      }
     },
     "01d9086711544704b621167736bafdd3": {
      "model_module": "@jupyter-widgets/base",
      "model_module_version": "2.0.0",
      "model_name": "LayoutModel",
      "state": {}
     },
     "0d918382db1543739cec498249f91fd4": {
      "model_module": "@jupyter-widgets/controls",
      "model_module_version": "2.0.0",
      "model_name": "HTMLModel",
      "state": {
       "layout": "IPY_MODEL_8a5519b90a55420cbe074504b889a95e",
       "style": "IPY_MODEL_a57ff71ec7564e54af16af3dd2c09c28",
       "value": " 58%"
      }
     },
     "0d9f4d3fb7bf4145b6a1502068c6e7b4": {
      "model_module": "@jupyter-widgets/controls",
      "model_module_version": "2.0.0",
      "model_name": "HTMLModel",
      "state": {
       "layout": "IPY_MODEL_e1da44293f314c8aa7e6842ae9778ace",
       "style": "IPY_MODEL_caca6b39a61d446eb5588b4f4445d951",
       "value": "100%"
      }
     },
     "17f36238b6fb46c4a7bef25a11c44f78": {
      "model_module": "@jupyter-widgets/base",
      "model_module_version": "2.0.0",
      "model_name": "LayoutModel",
      "state": {}
     },
     "1b5c1757eec340d4b6f99e0cff9e298c": {
      "model_module": "@jupyter-widgets/base",
      "model_module_version": "2.0.0",
      "model_name": "LayoutModel",
      "state": {}
     },
     "1c18c2bf16c4477b83149c7227bfa5b4": {
      "model_module": "@jupyter-widgets/controls",
      "model_module_version": "2.0.0",
      "model_name": "ProgressStyleModel",
      "state": {
       "description_width": ""
      }
     },
     "1c2236bf2232463c9f9fa7687164c6a7": {
      "model_module": "@jupyter-widgets/base",
      "model_module_version": "2.0.0",
      "model_name": "LayoutModel",
      "state": {}
     },
     "1e152e0de64c4bee9f2f0d2f7b698c98": {
      "model_module": "@jupyter-widgets/controls",
      "model_module_version": "2.0.0",
      "model_name": "ProgressStyleModel",
      "state": {
       "description_width": ""
      }
     },
     "228ba44b8f17400c95c04eba2dd27cf6": {
      "model_module": "@jupyter-widgets/controls",
      "model_module_version": "2.0.0",
      "model_name": "HTMLModel",
      "state": {
       "layout": "IPY_MODEL_7ad5e0eb60ff43e0804117d8ce62b32f",
       "style": "IPY_MODEL_017cd9885fde46f59a308c071fefe887",
       "value": " 27/27 [00:00&lt;00:00, 3497.95it/s]"
      }
     },
     "250dc597d8a740e98e59a5f6a3aaec76": {
      "model_module": "@jupyter-widgets/controls",
      "model_module_version": "2.0.0",
      "model_name": "ProgressStyleModel",
      "state": {
       "description_width": ""
      }
     },
     "2689ff1626f546289658dbeb908f499d": {
      "model_module": "@jupyter-widgets/base",
      "model_module_version": "2.0.0",
      "model_name": "LayoutModel",
      "state": {}
     },
     "2d18f75e52774c958576c3e40f6a23d3": {
      "model_module": "@jupyter-widgets/controls",
      "model_module_version": "2.0.0",
      "model_name": "HTMLModel",
      "state": {
       "layout": "IPY_MODEL_ea0d84e4fd2d4fc7973009b3046e6a33",
       "style": "IPY_MODEL_a337ec069e2f4ba495ba0420ce8e1b4e",
       "value": " 50/50 [00:48&lt;00:00,  1.07it/s]"
      }
     },
     "349578bc68194057aa6d0334446cdad6": {
      "model_module": "@jupyter-widgets/controls",
      "model_module_version": "2.0.0",
      "model_name": "FloatProgressModel",
      "state": {
       "bar_style": "success",
       "layout": "IPY_MODEL_d61655790a29450a914b1123811906d2",
       "max": 50,
       "style": "IPY_MODEL_1c18c2bf16c4477b83149c7227bfa5b4",
       "value": 50
      }
     },
     "3cc4e799ef9543ed939d40b2de404803": {
      "model_module": "@jupyter-widgets/base",
      "model_module_version": "2.0.0",
      "model_name": "LayoutModel",
      "state": {}
     },
     "3cf104eacdc2425e8cc723e77c45593c": {
      "model_module": "@jupyter-widgets/base",
      "model_module_version": "2.0.0",
      "model_name": "LayoutModel",
      "state": {}
     },
     "3d00e63f8dc74e1cb112781f6bfd9eb6": {
      "model_module": "@jupyter-widgets/controls",
      "model_module_version": "2.0.0",
      "model_name": "HBoxModel",
      "state": {
       "children": [
        "IPY_MODEL_0d918382db1543739cec498249f91fd4",
        "IPY_MODEL_4b53f6dc25764b30a0f09b73b85e00dc",
        "IPY_MODEL_e109f087d619469497b586c12990b83c"
       ],
       "layout": "IPY_MODEL_00b9cc5a10974e3d943ae66ccdb2c657"
      }
     },
     "3f5e81ce86c4493ca735c09535bfc925": {
      "model_module": "@jupyter-widgets/controls",
      "model_module_version": "2.0.0",
      "model_name": "HTMLStyleModel",
      "state": {
       "description_width": "",
       "font_size": null,
       "text_color": null
      }
     },
     "408b82a38e9040369d28af29df1b8007": {
      "model_module": "@jupyter-widgets/controls",
      "model_module_version": "2.0.0",
      "model_name": "ProgressStyleModel",
      "state": {
       "description_width": ""
      }
     },
     "4184c09d9fd84c4586dd9d131a5865e2": {
      "model_module": "@jupyter-widgets/controls",
      "model_module_version": "2.0.0",
      "model_name": "FloatProgressModel",
      "state": {
       "bar_style": "success",
       "layout": "IPY_MODEL_3cf104eacdc2425e8cc723e77c45593c",
       "max": 50,
       "style": "IPY_MODEL_250dc597d8a740e98e59a5f6a3aaec76",
       "value": 50
      }
     },
     "45b3f447a72540f8ab923126597aa6dd": {
      "model_module": "@jupyter-widgets/controls",
      "model_module_version": "2.0.0",
      "model_name": "HBoxModel",
      "state": {
       "children": [
        "IPY_MODEL_acd79682ffbe4555b51c8a3304652a8c",
        "IPY_MODEL_8225fde4a65645b9afbc79450b79c3ec",
        "IPY_MODEL_228ba44b8f17400c95c04eba2dd27cf6"
       ],
       "layout": "IPY_MODEL_751ae6cc3acc4e9f93b6c54ae8ced295"
      }
     },
     "4609561c34b24d5ab6b4e5278f2793bf": {
      "model_module": "@jupyter-widgets/base",
      "model_module_version": "2.0.0",
      "model_name": "LayoutModel",
      "state": {}
     },
     "4b53f6dc25764b30a0f09b73b85e00dc": {
      "model_module": "@jupyter-widgets/controls",
      "model_module_version": "2.0.0",
      "model_name": "FloatProgressModel",
      "state": {
       "bar_style": "danger",
       "layout": "IPY_MODEL_f88204c271cd4a7aa55754a9010b800f",
       "max": 50,
       "style": "IPY_MODEL_fea87c46271445ff9902728582972fac",
       "value": 29
      }
     },
     "560897d78fa547cabd191ae18d3fb8c1": {
      "model_module": "@jupyter-widgets/base",
      "model_module_version": "2.0.0",
      "model_name": "LayoutModel",
      "state": {}
     },
     "58b7ec585f8c43f9adbe3f9d303cca7c": {
      "model_module": "@jupyter-widgets/controls",
      "model_module_version": "2.0.0",
      "model_name": "HTMLModel",
      "state": {
       "layout": "IPY_MODEL_9baf9ee339f24b218d82362327fdfcac",
       "style": "IPY_MODEL_df44e802abae4bbb86960561aa5a1135",
       "value": " 50/50 [00:49&lt;00:00,  1.04it/s]"
      }
     },
     "599df8cacab44f8883b6106a3f373ba0": {
      "model_module": "@jupyter-widgets/controls",
      "model_module_version": "2.0.0",
      "model_name": "HTMLModel",
      "state": {
       "layout": "IPY_MODEL_17f36238b6fb46c4a7bef25a11c44f78",
       "style": "IPY_MODEL_bc60de3a88624791977606b0558609f1",
       "value": " 50/50 [00:40&lt;00:00,  1.25it/s]"
      }
     },
     "5bf3b388a5634d379145215d78311ba9": {
      "model_module": "@jupyter-widgets/controls",
      "model_module_version": "2.0.0",
      "model_name": "HTMLStyleModel",
      "state": {
       "description_width": "",
       "font_size": null,
       "text_color": null
      }
     },
     "61a9ba0370f945229627204e8ad48b60": {
      "model_module": "@jupyter-widgets/controls",
      "model_module_version": "2.0.0",
      "model_name": "HTMLStyleModel",
      "state": {
       "description_width": "",
       "font_size": null,
       "text_color": null
      }
     },
     "642d10873944404a9d4b5ab802c31198": {
      "model_module": "@jupyter-widgets/controls",
      "model_module_version": "2.0.0",
      "model_name": "HTMLStyleModel",
      "state": {
       "description_width": "",
       "font_size": null,
       "text_color": null
      }
     },
     "751ae6cc3acc4e9f93b6c54ae8ced295": {
      "model_module": "@jupyter-widgets/base",
      "model_module_version": "2.0.0",
      "model_name": "LayoutModel",
      "state": {}
     },
     "7745fcdd7ffa43f7b8140bd83efea726": {
      "model_module": "@jupyter-widgets/base",
      "model_module_version": "2.0.0",
      "model_name": "LayoutModel",
      "state": {}
     },
     "78f0ef8a386a41b8a7f816898f8947cb": {
      "model_module": "@jupyter-widgets/controls",
      "model_module_version": "2.0.0",
      "model_name": "HBoxModel",
      "state": {
       "children": [
        "IPY_MODEL_9d753d2079b64b098a8152cdf8ff8e24",
        "IPY_MODEL_820cd57c3984411b9fb351bbee84d6bb",
        "IPY_MODEL_c7b9cc985ee646fb94377ab4166ce48f"
       ],
       "layout": "IPY_MODEL_1b5c1757eec340d4b6f99e0cff9e298c"
      }
     },
     "7ad5e0eb60ff43e0804117d8ce62b32f": {
      "model_module": "@jupyter-widgets/base",
      "model_module_version": "2.0.0",
      "model_name": "LayoutModel",
      "state": {}
     },
     "7d0616d9b29f4779a1c4dde366c730bd": {
      "model_module": "@jupyter-widgets/controls",
      "model_module_version": "2.0.0",
      "model_name": "HTMLModel",
      "state": {
       "layout": "IPY_MODEL_7745fcdd7ffa43f7b8140bd83efea726",
       "style": "IPY_MODEL_3f5e81ce86c4493ca735c09535bfc925",
       "value": " 50/50 [00:38&lt;00:00,  1.32it/s]"
      }
     },
     "7dce68a090da44a3baf93442db9719df": {
      "model_module": "@jupyter-widgets/controls",
      "model_module_version": "2.0.0",
      "model_name": "HBoxModel",
      "state": {
       "children": [
        "IPY_MODEL_0d9f4d3fb7bf4145b6a1502068c6e7b4",
        "IPY_MODEL_4184c09d9fd84c4586dd9d131a5865e2",
        "IPY_MODEL_7d0616d9b29f4779a1c4dde366c730bd"
       ],
       "layout": "IPY_MODEL_f5538516bf6a4a0bb3aa53177e0014cc"
      }
     },
     "820cd57c3984411b9fb351bbee84d6bb": {
      "model_module": "@jupyter-widgets/controls",
      "model_module_version": "2.0.0",
      "model_name": "FloatProgressModel",
      "state": {
       "bar_style": "success",
       "layout": "IPY_MODEL_fcd93c1786ab4eb3b6a6b394a206c7c3",
       "max": 27,
       "style": "IPY_MODEL_408b82a38e9040369d28af29df1b8007",
       "value": 27
      }
     },
     "8225fde4a65645b9afbc79450b79c3ec": {
      "model_module": "@jupyter-widgets/controls",
      "model_module_version": "2.0.0",
      "model_name": "FloatProgressModel",
      "state": {
       "bar_style": "success",
       "layout": "IPY_MODEL_e7b3dd973ff1417b9134415fc3a0b8f0",
       "max": 27,
       "style": "IPY_MODEL_8db66643ee1746e098d3ddc4a146675f",
       "value": 27
      }
     },
     "836cac3281494d8e872bd9885462e7ca": {
      "model_module": "@jupyter-widgets/controls",
      "model_module_version": "2.0.0",
      "model_name": "HTMLModel",
      "state": {
       "layout": "IPY_MODEL_4609561c34b24d5ab6b4e5278f2793bf",
       "style": "IPY_MODEL_a9290d38bb0e45fe8e6204680c72cae6",
       "value": "100%"
      }
     },
     "83ddcea9d0ce476c8a3bba119ed91413": {
      "model_module": "@jupyter-widgets/controls",
      "model_module_version": "2.0.0",
      "model_name": "HTMLModel",
      "state": {
       "layout": "IPY_MODEL_ea63511df8a54ea79f3cadabc5d1a6c2",
       "style": "IPY_MODEL_9dc47d75b8b541458071d37cbdf67dbe",
       "value": "Loading pipeline components...: 100%"
      }
     },
     "8a5519b90a55420cbe074504b889a95e": {
      "model_module": "@jupyter-widgets/base",
      "model_module_version": "2.0.0",
      "model_name": "LayoutModel",
      "state": {}
     },
     "8db66643ee1746e098d3ddc4a146675f": {
      "model_module": "@jupyter-widgets/controls",
      "model_module_version": "2.0.0",
      "model_name": "ProgressStyleModel",
      "state": {
       "description_width": ""
      }
     },
     "9778730eaaea4b019b4cc0b76c46fe79": {
      "model_module": "@jupyter-widgets/controls",
      "model_module_version": "2.0.0",
      "model_name": "FloatProgressModel",
      "state": {
       "bar_style": "success",
       "layout": "IPY_MODEL_a36111cdba0c42b7bf7412b849cb97fc",
       "max": 7,
       "style": "IPY_MODEL_afb12fd7daa94177863713460bd3f9af",
       "value": 7
      }
     },
     "9a52f57d582045ce9dab6a15381adfa9": {
      "model_module": "@jupyter-widgets/controls",
      "model_module_version": "2.0.0",
      "model_name": "HTMLModel",
      "state": {
       "layout": "IPY_MODEL_ab000b8462a8425b97f7e5ed65bf69af",
       "style": "IPY_MODEL_642d10873944404a9d4b5ab802c31198",
       "value": "100%"
      }
     },
     "9baf9ee339f24b218d82362327fdfcac": {
      "model_module": "@jupyter-widgets/base",
      "model_module_version": "2.0.0",
      "model_name": "LayoutModel",
      "state": {}
     },
     "9d4a27002e044d048bda144282a066d8": {
      "model_module": "@jupyter-widgets/base",
      "model_module_version": "2.0.0",
      "model_name": "LayoutModel",
      "state": {}
     },
     "9d753d2079b64b098a8152cdf8ff8e24": {
      "model_module": "@jupyter-widgets/controls",
      "model_module_version": "2.0.0",
      "model_name": "HTMLModel",
      "state": {
       "layout": "IPY_MODEL_c4967e65982f4135b27dcca778f674bc",
       "style": "IPY_MODEL_afd1f0f571424424966ecd9928c6f176",
       "value": "Resolving data files: 100%"
      }
     },
     "9dc47d75b8b541458071d37cbdf67dbe": {
      "model_module": "@jupyter-widgets/controls",
      "model_module_version": "2.0.0",
      "model_name": "HTMLStyleModel",
      "state": {
       "description_width": "",
       "font_size": null,
       "text_color": null
      }
     },
     "a337ec069e2f4ba495ba0420ce8e1b4e": {
      "model_module": "@jupyter-widgets/controls",
      "model_module_version": "2.0.0",
      "model_name": "HTMLStyleModel",
      "state": {
       "description_width": "",
       "font_size": null,
       "text_color": null
      }
     },
     "a36111cdba0c42b7bf7412b849cb97fc": {
      "model_module": "@jupyter-widgets/base",
      "model_module_version": "2.0.0",
      "model_name": "LayoutModel",
      "state": {}
     },
     "a494e3d7c1ba44639d9d955777c2b0b9": {
      "model_module": "@jupyter-widgets/controls",
      "model_module_version": "2.0.0",
      "model_name": "HBoxModel",
      "state": {
       "children": [
        "IPY_MODEL_d3e9278cbdf74d2aa6c385bbe2e75c8c",
        "IPY_MODEL_d4c09d5f64204292838689c17dd5293a",
        "IPY_MODEL_2d18f75e52774c958576c3e40f6a23d3"
       ],
       "layout": "IPY_MODEL_e6b561d4b9484e65a26fcd9f36179039"
      }
     },
     "a57ff71ec7564e54af16af3dd2c09c28": {
      "model_module": "@jupyter-widgets/controls",
      "model_module_version": "2.0.0",
      "model_name": "HTMLStyleModel",
      "state": {
       "description_width": "",
       "font_size": null,
       "text_color": null
      }
     },
     "a9290d38bb0e45fe8e6204680c72cae6": {
      "model_module": "@jupyter-widgets/controls",
      "model_module_version": "2.0.0",
      "model_name": "HTMLStyleModel",
      "state": {
       "description_width": "",
       "font_size": null,
       "text_color": null
      }
     },
     "ab000b8462a8425b97f7e5ed65bf69af": {
      "model_module": "@jupyter-widgets/base",
      "model_module_version": "2.0.0",
      "model_name": "LayoutModel",
      "state": {}
     },
     "acd79682ffbe4555b51c8a3304652a8c": {
      "model_module": "@jupyter-widgets/controls",
      "model_module_version": "2.0.0",
      "model_name": "HTMLModel",
      "state": {
       "layout": "IPY_MODEL_c28d8f2dc1d24d34a4e2685b979db7c1",
       "style": "IPY_MODEL_5bf3b388a5634d379145215d78311ba9",
       "value": "Resolving data files: 100%"
      }
     },
     "afb12fd7daa94177863713460bd3f9af": {
      "model_module": "@jupyter-widgets/controls",
      "model_module_version": "2.0.0",
      "model_name": "ProgressStyleModel",
      "state": {
       "description_width": ""
      }
     },
     "afd1f0f571424424966ecd9928c6f176": {
      "model_module": "@jupyter-widgets/controls",
      "model_module_version": "2.0.0",
      "model_name": "HTMLStyleModel",
      "state": {
       "description_width": "",
       "font_size": null,
       "text_color": null
      }
     },
     "b0db65c1215446b98b579c7c505ccb44": {
      "model_module": "@jupyter-widgets/base",
      "model_module_version": "2.0.0",
      "model_name": "LayoutModel",
      "state": {}
     },
     "bc60de3a88624791977606b0558609f1": {
      "model_module": "@jupyter-widgets/controls",
      "model_module_version": "2.0.0",
      "model_name": "HTMLStyleModel",
      "state": {
       "description_width": "",
       "font_size": null,
       "text_color": null
      }
     },
     "c28d8f2dc1d24d34a4e2685b979db7c1": {
      "model_module": "@jupyter-widgets/base",
      "model_module_version": "2.0.0",
      "model_name": "LayoutModel",
      "state": {}
     },
     "c4967e65982f4135b27dcca778f674bc": {
      "model_module": "@jupyter-widgets/base",
      "model_module_version": "2.0.0",
      "model_name": "LayoutModel",
      "state": {}
     },
     "c6a76e738bd24d5eba51b142e17312dc": {
      "model_module": "@jupyter-widgets/controls",
      "model_module_version": "2.0.0",
      "model_name": "HBoxModel",
      "state": {
       "children": [
        "IPY_MODEL_9a52f57d582045ce9dab6a15381adfa9",
        "IPY_MODEL_db6b1ba57c7d4552a290992f2ed0342a",
        "IPY_MODEL_58b7ec585f8c43f9adbe3f9d303cca7c"
       ],
       "layout": "IPY_MODEL_560897d78fa547cabd191ae18d3fb8c1"
      }
     },
     "c7b9cc985ee646fb94377ab4166ce48f": {
      "model_module": "@jupyter-widgets/controls",
      "model_module_version": "2.0.0",
      "model_name": "HTMLModel",
      "state": {
       "layout": "IPY_MODEL_9d4a27002e044d048bda144282a066d8",
       "style": "IPY_MODEL_d19da5882721425a900b975a17873e1a",
       "value": " 27/27 [00:00&lt;00:00, 107.26it/s]"
      }
     },
     "c9aa83058c1249ee9c51b601bd46219e": {
      "model_module": "@jupyter-widgets/controls",
      "model_module_version": "2.0.0",
      "model_name": "HTMLStyleModel",
      "state": {
       "description_width": "",
       "font_size": null,
       "text_color": null
      }
     },
     "caca6b39a61d446eb5588b4f4445d951": {
      "model_module": "@jupyter-widgets/controls",
      "model_module_version": "2.0.0",
      "model_name": "HTMLStyleModel",
      "state": {
       "description_width": "",
       "font_size": null,
       "text_color": null
      }
     },
     "cdb40111ad744901a65cd1d35a21e5ae": {
      "model_module": "@jupyter-widgets/controls",
      "model_module_version": "2.0.0",
      "model_name": "HBoxModel",
      "state": {
       "children": [
        "IPY_MODEL_83ddcea9d0ce476c8a3bba119ed91413",
        "IPY_MODEL_9778730eaaea4b019b4cc0b76c46fe79",
        "IPY_MODEL_f84e3edde40f428ea8d1f0b088a8afb3"
       ],
       "layout": "IPY_MODEL_b0db65c1215446b98b579c7c505ccb44"
      }
     },
     "d19da5882721425a900b975a17873e1a": {
      "model_module": "@jupyter-widgets/controls",
      "model_module_version": "2.0.0",
      "model_name": "HTMLStyleModel",
      "state": {
       "description_width": "",
       "font_size": null,
       "text_color": null
      }
     },
     "d3e9278cbdf74d2aa6c385bbe2e75c8c": {
      "model_module": "@jupyter-widgets/controls",
      "model_module_version": "2.0.0",
      "model_name": "HTMLModel",
      "state": {
       "layout": "IPY_MODEL_3cc4e799ef9543ed939d40b2de404803",
       "style": "IPY_MODEL_61a9ba0370f945229627204e8ad48b60",
       "value": "100%"
      }
     },
     "d4c09d5f64204292838689c17dd5293a": {
      "model_module": "@jupyter-widgets/controls",
      "model_module_version": "2.0.0",
      "model_name": "FloatProgressModel",
      "state": {
       "bar_style": "success",
       "layout": "IPY_MODEL_2689ff1626f546289658dbeb908f499d",
       "max": 50,
       "style": "IPY_MODEL_dfae14f218f84b679c22986dd6833845",
       "value": 50
      }
     },
     "d61655790a29450a914b1123811906d2": {
      "model_module": "@jupyter-widgets/base",
      "model_module_version": "2.0.0",
      "model_name": "LayoutModel",
      "state": {}
     },
     "db6b1ba57c7d4552a290992f2ed0342a": {
      "model_module": "@jupyter-widgets/controls",
      "model_module_version": "2.0.0",
      "model_name": "FloatProgressModel",
      "state": {
       "bar_style": "success",
       "layout": "IPY_MODEL_1c2236bf2232463c9f9fa7687164c6a7",
       "max": 50,
       "style": "IPY_MODEL_1e152e0de64c4bee9f2f0d2f7b698c98",
       "value": 50
      }
     },
     "df44e802abae4bbb86960561aa5a1135": {
      "model_module": "@jupyter-widgets/controls",
      "model_module_version": "2.0.0",
      "model_name": "HTMLStyleModel",
      "state": {
       "description_width": "",
       "font_size": null,
       "text_color": null
      }
     },
     "dfae14f218f84b679c22986dd6833845": {
      "model_module": "@jupyter-widgets/controls",
      "model_module_version": "2.0.0",
      "model_name": "ProgressStyleModel",
      "state": {
       "description_width": ""
      }
     },
     "e109f087d619469497b586c12990b83c": {
      "model_module": "@jupyter-widgets/controls",
      "model_module_version": "2.0.0",
      "model_name": "HTMLModel",
      "state": {
       "layout": "IPY_MODEL_01d9086711544704b621167736bafdd3",
       "style": "IPY_MODEL_c9aa83058c1249ee9c51b601bd46219e",
       "value": " 29/50 [00:29&lt;00:20,  1.04it/s]"
      }
     },
     "e1da44293f314c8aa7e6842ae9778ace": {
      "model_module": "@jupyter-widgets/base",
      "model_module_version": "2.0.0",
      "model_name": "LayoutModel",
      "state": {}
     },
     "e2d64612899c48aeb70a481f26d0f443": {
      "model_module": "@jupyter-widgets/base",
      "model_module_version": "2.0.0",
      "model_name": "LayoutModel",
      "state": {}
     },
     "e52d356eb3d64402a13ecb4a1006a076": {
      "model_module": "@jupyter-widgets/base",
      "model_module_version": "2.0.0",
      "model_name": "LayoutModel",
      "state": {}
     },
     "e55f40610d924010be4ed6b06e54fc1a": {
      "model_module": "@jupyter-widgets/controls",
      "model_module_version": "2.0.0",
      "model_name": "HBoxModel",
      "state": {
       "children": [
        "IPY_MODEL_836cac3281494d8e872bd9885462e7ca",
        "IPY_MODEL_349578bc68194057aa6d0334446cdad6",
        "IPY_MODEL_599df8cacab44f8883b6106a3f373ba0"
       ],
       "layout": "IPY_MODEL_e2d64612899c48aeb70a481f26d0f443"
      }
     },
     "e6b561d4b9484e65a26fcd9f36179039": {
      "model_module": "@jupyter-widgets/base",
      "model_module_version": "2.0.0",
      "model_name": "LayoutModel",
      "state": {}
     },
     "e7b3dd973ff1417b9134415fc3a0b8f0": {
      "model_module": "@jupyter-widgets/base",
      "model_module_version": "2.0.0",
      "model_name": "LayoutModel",
      "state": {}
     },
     "ea0d84e4fd2d4fc7973009b3046e6a33": {
      "model_module": "@jupyter-widgets/base",
      "model_module_version": "2.0.0",
      "model_name": "LayoutModel",
      "state": {}
     },
     "ea63511df8a54ea79f3cadabc5d1a6c2": {
      "model_module": "@jupyter-widgets/base",
      "model_module_version": "2.0.0",
      "model_name": "LayoutModel",
      "state": {}
     },
     "f5538516bf6a4a0bb3aa53177e0014cc": {
      "model_module": "@jupyter-widgets/base",
      "model_module_version": "2.0.0",
      "model_name": "LayoutModel",
      "state": {}
     },
     "f84e3edde40f428ea8d1f0b088a8afb3": {
      "model_module": "@jupyter-widgets/controls",
      "model_module_version": "2.0.0",
      "model_name": "HTMLModel",
      "state": {
       "layout": "IPY_MODEL_e52d356eb3d64402a13ecb4a1006a076",
       "style": "IPY_MODEL_0180447433a34052a6d72faf7ab186f6",
       "value": " 7/7 [00:02&lt;00:00,  2.71it/s]"
      }
     },
     "f88204c271cd4a7aa55754a9010b800f": {
      "model_module": "@jupyter-widgets/base",
      "model_module_version": "2.0.0",
      "model_name": "LayoutModel",
      "state": {}
     },
     "fcd93c1786ab4eb3b6a6b394a206c7c3": {
      "model_module": "@jupyter-widgets/base",
      "model_module_version": "2.0.0",
      "model_name": "LayoutModel",
      "state": {}
     },
     "fea87c46271445ff9902728582972fac": {
      "model_module": "@jupyter-widgets/controls",
      "model_module_version": "2.0.0",
      "model_name": "ProgressStyleModel",
      "state": {
       "description_width": ""
      }
     }
    },
    "version_major": 2,
    "version_minor": 0
   }
  }
 },
 "nbformat": 4,
 "nbformat_minor": 4
}
