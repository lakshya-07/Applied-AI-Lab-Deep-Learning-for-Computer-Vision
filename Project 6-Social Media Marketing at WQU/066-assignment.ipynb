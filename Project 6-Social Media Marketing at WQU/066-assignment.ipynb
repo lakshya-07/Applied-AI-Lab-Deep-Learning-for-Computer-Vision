{
 "cells": [
  {
   "cell_type": "markdown",
   "metadata": {},
   "source": [
    "### Getting Ready"
   ]
  },
  {
   "cell_type": "markdown",
   "metadata": {},
   "source": [
    "We'll be working with Stable Diffusion, so we'll need to import `diffusers` and `torch`."
   ]
  },
  {
   "cell_type": "markdown",
   "metadata": {},
   "source": [
    "**Task 6.6.1:** Import `torch` and the `diffusers` modules."
   ]
  },
  {
   "cell_type": "code",
   "execution_count": null,
   "metadata": {},
   "outputs": [],
   "source": [
    "import ...\n",
    "import ..."
   ]
  },
  {
   "cell_type": "markdown",
   "metadata": {},
   "source": [
    "**Task 6.6.2:** Set the `device` and `dtype` as we did in the lessons."
   ]
  },
  {
   "cell_type": "code",
   "execution_count": null,
   "metadata": {},
   "outputs": [],
   "source": [
    "if torch.cuda.is_available():\n",
    "    device = ...\n",
    "    dtype = ...\n",
    "else:\n",
    "    device = ...\n",
    "    dtype = ..."
   ]
  },
  {
   "cell_type": "markdown",
   "metadata": {},
   "source": [
    "### Stable Diffusion"
   ]
  },
  {
   "cell_type": "markdown",
   "metadata": {},
   "source": [
    "We'll need a Stable Diffusion pipeline to be able to produce images. As we did in the lesson, we'll create a function that returns one."
   ]
  },
  {
   "cell_type": "markdown",
   "metadata": {},
   "source": [
    "**Task 6.6.3:** Create a function `load_model` that takes no arguments. It should load the Stable Diffusion v1.4 model from Hugging Face and place it on the correct device.  It should return the Stable Diffusion pipeline that gets created."
   ]
  },
  {
   "cell_type": "code",
   "execution_count": null,
   "metadata": {},
   "outputs": [],
   "source": [
    "def load_model():\n",
    "    pipeline = ...\n",
    "    return pipeline"
   ]
  },
  {
   "cell_type": "code",
   "execution_count": null,
   "metadata": {},
   "outputs": [],
   "source": [
    "pipeline = load_model()\n",
    "\n",
    "print(f\"On device {pipeline.device}\")\n",
    "pipeline"
   ]
  },
  {
   "cell_type": "markdown",
   "metadata": {},
   "source": [
    "We'll want a function to generate images, as we had before. We'll start with the same one, but we'll expand it as we continue along."
   ]
  },
  {
   "cell_type": "markdown",
   "metadata": {},
   "source": [
    "**Task 6.6.4:** Create a function `generate_images(prompt, pipeline, n)`.  It should take three arguments:\n",
    "- `prompt`: An image generation prompt, as a string.\n",
    "- `pipeline`: A Stable Diffusion pipeline object.\n",
    "- `n`: The number of images to create, as an integer.\n",
    "\n",
    "It should return a list of PIL Images of length `n`."
   ]
  },
  {
   "cell_type": "code",
   "execution_count": null,
   "metadata": {},
   "outputs": [],
   "source": [
    "def generate_images(...):\n",
    "    pass"
   ]
  },
  {
   "cell_type": "code",
   "execution_count": null,
   "metadata": {},
   "outputs": [],
   "source": [
    "images = generate_images(\"Tree with autumn foliage\", pipeline, 2)\n",
    "\n",
    "images[0]"
   ]
  },
  {
   "cell_type": "markdown",
   "metadata": {},
   "source": [
    "This is a nice starting place. But the `pipeline` takes more arguments, to give users more flexibility with how images are generated. Let's add those in. We'll start with the guidance scale, which we can change with the `guidance_scale` argument in the pipeline."
   ]
  },
  {
   "cell_type": "markdown",
   "metadata": {},
   "source": [
    "**Task 6.6.5:** Change your `generate_images` to also take a `guidance` argument, with a default value of `7.5`. Also change your call to pipeline to include the argument `guidance_scale=guidance`."
   ]
  },
  {
   "cell_type": "code",
   "execution_count": null,
   "metadata": {},
   "outputs": [],
   "source": [
    "def generate_images(...):\n",
    "    pass"
   ]
  },
  {
   "cell_type": "code",
   "execution_count": null,
   "metadata": {},
   "outputs": [],
   "source": [
    "images = generate_images(\"Tree with autumn foliage\", pipeline, 2, guidance=3.0)\n",
    "\n",
    "images[0]"
   ]
  },
  {
   "cell_type": "markdown",
   "metadata": {},
   "source": [
    "We can also change how many steps the model takes, by adjusting the `num_inference_steps` argument to the pipeline. Let's add that as well."
   ]
  },
  {
   "cell_type": "markdown",
   "metadata": {},
   "source": [
    "**Task 6.6.6:** Change your `generate_images` to also take a `steps` argument, with a default value of `50`. Also change your call to pipeline to include the argument `num_inference_steps=steps`."
   ]
  },
  {
   "cell_type": "code",
   "execution_count": null,
   "metadata": {},
   "outputs": [],
   "source": [
    "def generate_images(...):\n",
    "    pass"
   ]
  },
  {
   "cell_type": "code",
   "execution_count": null,
   "metadata": {},
   "outputs": [],
   "source": [
    "images = generate_images(\n",
    "    \"Tree with autumn foliage\", pipeline, 2, guidance=7, steps=20\n",
    ")\n",
    "\n",
    "images[0]"
   ]
  },
  {
   "cell_type": "markdown",
   "metadata": {},
   "source": [
    "There are other arguments to the pipeline we could change, but this should be enough for now. We don't want to overwhelm our users (or ourselves)!\n",
    "\n",
    "One thing we saw was that we could add styles. This was actually a somewhat annoying process, so it would be nice for our users if we could do this for them. Here is a dictionary that presents different Stable Diffusion styles along with short names as keys. It'll be handy for the Streamlit app:"
   ]
  },
  {
   "cell_type": "code",
   "execution_count": null,
   "metadata": {},
   "outputs": [],
   "source": [
    "style_dict = {\n",
    "    'none': '',\n",
    "    'anime': 'cartoon, animated, Studio Ghibli style, cute, Japanese animation',\n",
    "    'photo': 'photograph, film, 35 mm camera',\n",
    "    'video game': 'rendered in unreal engine, hyper-realistic, volumetric lighting, --ar 9:16 --hd --q 2',\n",
    "    'watercolor': 'painting, watercolors, pastel, composition'\n",
    "}\n"
   ]
  },
  {
   "cell_type": "markdown",
   "metadata": {},
   "source": [
    "Now we should adjust our `generate_images` to take the style name, and add the style string to the prompt. Later, our user will be able to select the nice short name and our app will take care of the rest."
   ]
  },
  {
   "cell_type": "markdown",
   "metadata": {},
   "source": [
    "**Task 6.6.7:** Change your `generate_images` to also take a `style` argument, with a default value of `\"none\"`. In the function, look up the style string based on the `style` argument, and add that string to the prompt."
   ]
  },
  {
   "cell_type": "code",
   "execution_count": null,
   "metadata": {},
   "outputs": [],
   "source": [
    "def generate_images(...):\n",
    "    pass"
   ]
  },
  {
   "cell_type": "code",
   "execution_count": null,
   "metadata": {},
   "outputs": [],
   "source": [
    "images = generate_images(\n",
    "    \"Tree with autumn foliage\", pipeline, 2, steps=20, style=\"anime\"\n",
    ")\n",
    "\n",
    "images[0]"
   ]
  },
  {
   "cell_type": "markdown",
   "metadata": {},
   "source": [
    "### Streamlit App"
   ]
  },
  {
   "cell_type": "markdown",
   "metadata": {},
   "source": [
    "Congratulations! You have successfully customized Stable Diffusion. Now it's time to create a Streamlit app that will present this to any user.\n",
    "\n",
    "> **The rest of this lesson is entirely optional and it's not graded.**"
   ]
  },
  {
   "cell_type": "markdown",
   "metadata": {},
   "source": [
    "Open the app script located in `app.py` and fill in the code that you have created during this lesson: the imports, the `device` and `dtype` and the functions.\n",
    "\n",
    "You'll find that we have already created a `main()` function that will use your function's parameters.\n",
    "\n",
    "Once you're ready to try it out, run the following in a terminal:"
   ]
  },
  {
   "cell_type": "markdown",
   "metadata": {},
   "source": [
    "```bash\n",
    "streamlit run app.py --browser.serverAddress 0.0.0.0 --server.port 9000\n",
    "```"
   ]
  },
  {
   "cell_type": "markdown",
   "metadata": {},
   "source": [
    "Now use the tab switcher to go to the `Streamlit App` tab."
   ]
  },
  {
   "cell_type": "markdown",
   "metadata": {},
   "source": [
    "![](images/streamlit-view-switch.png)"
   ]
  }
 ],
 "metadata": {
  "kernelspec": {
   "display_name": "Python 3 (ipykernel)",
   "language": "python",
   "name": "python3"
  },
  "language_info": {
   "codemirror_mode": {
    "name": "ipython",
    "version": 3
   },
   "file_extension": ".py",
   "mimetype": "text/x-python",
   "name": "python",
   "nbconvert_exporter": "python",
   "pygments_lexer": "ipython3",
   "version": "3.11.0"
  },
  "widgets": {
   "application/vnd.jupyter.widget-state+json": {
    "state": {},
    "version_major": 2,
    "version_minor": 0
   }
  }
 },
 "nbformat": 4,
 "nbformat_minor": 4
}
